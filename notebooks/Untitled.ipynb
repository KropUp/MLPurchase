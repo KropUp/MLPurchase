{
 "cells": [
  {
   "cell_type": "code",
   "execution_count": 4,
   "id": "4995b263-59c1-4345-82c5-86d1ea20f6bc",
   "metadata": {},
   "outputs": [],
   "source": [
    "import os\n",
    "import pandas as pd\n",
    "import logging\n",
    "import io\n",
    "import requests\n",
    "import threading\n",
    "import queue\n",
    "from tqdm import tqdm\n",
    "import time\n",
    "from bs4 import BeautifulSoup\n",
    "from lxml import html"
   ]
  },
  {
   "cell_type": "code",
   "execution_count": 5,
   "id": "60e0e34f-bed7-4281-8efe-f5df12903fda",
   "metadata": {},
   "outputs": [],
   "source": [
    "headers = {'sec-ch-ua': '\" Not;A Brand\";v=\"99\", \"Google Chrome\";v=\"91\", \"Chromium\";v=\"91\"',\n",
    "           'sec-ch-ua-mobile':'0',\n",
    "           'Upgrade-Insecure-Requests': '1',\n",
    "           'User-Agent': 'Mozilla/5.0 (Windows NT 10.0; Win64; x64) AppleWebKit/537.36 (KHTML, like Gecko) Chrome/91.0.4472.124 Safari/537.36'\n",
    "                    }\n",
    "\n",
    "def get_inn_vie_purch(purch,q):   \n",
    "    url=\"https://zakupki.gov.ru/epz/order/notice/ea44/view/supplier-results.html?regNumber=\"+purch \n",
    "    r = requests.get(url, headers = headers)\n",
    "    text = r.content.decode('utf-8')\n",
    "    soup = BeautifulSoup(text)\n",
    "    winer_list = soup.find_all('table',{'class': 'blockInfo__table tableBlock'})\n",
    "    if len(winer_list) > 3:\n",
    "        soup = BeautifulSoup(str(winer_list[3]))\n",
    "    elif len(winer_list) == 3:\n",
    "        soup = BeautifulSoup(str(winer_list[2]))\n",
    "    else:\n",
    "        q.put(0)\n",
    "        return\n",
    "    contract_link = soup.find('a')\n",
    "    try:\n",
    "        contract_url = contract_link.get('href')\n",
    "    except Exception:\n",
    "        q.put(0)\n",
    "        return\n",
    "    contract_url = 'https://zakupki.gov.ru' + contract_url\n",
    "    try:\n",
    "        contract_page = requests.get(contract_url, headers = headers)\n",
    "    except Exception:\n",
    "        q.put(0)\n",
    "        return\n",
    "    contract_page_text = contract_page.content.decode('utf-8')\n",
    "    soup = BeautifulSoup(contract_page_text)\n",
    "    spans = soup.find_all('span')\n",
    "    ind_cur = -1\n",
    "    for span in spans:\n",
    "        if span.text == 'ИНН:': \n",
    "            ind_cur = spans.index(span)+1\n",
    "            break\n",
    "    if ind_cur == -1:\n",
    "        q.put(0)\n",
    "        return \n",
    "    else:\n",
    "        q.put(spans[ind_cur].text)\n",
    "        return \n",
    "tqdm.pandas()"
   ]
  },
  {
   "cell_type": "code",
   "execution_count": 6,
   "id": "ac0c563e-4509-4ab8-8779-55e21a569c83",
   "metadata": {},
   "outputs": [],
   "source": [
    "def start_download(purch):\n",
    "    out = purch\n",
    "    q = queue.Queue()\n",
    "    scraping = threading.Thread(target=get_inn_vie_purch, args=(out,q,))\n",
    "    scraping.start()\n",
    "    scraping.join()\n",
    "    while threading.active_count()>15:\n",
    "        time.sleep(0.01)\n",
    "    return q.get()"
   ]
  },
  {
   "cell_type": "code",
   "execution_count": 7,
   "id": "db429277-5b13-45dc-a4f7-f45026378a3d",
   "metadata": {},
   "outputs": [
    {
     "name": "stderr",
     "output_type": "stream",
     "text": [
      "C:\\ProgramData\\Anaconda3\\lib\\site-packages\\IPython\\core\\interactiveshell.py:3165: DtypeWarning: Columns (11,14) have mixed types.Specify dtype option on import or set low_memory=False.\n",
      "  has_raised = await self.run_ast_nodes(code_ast.body, cell_name,\n"
     ]
    }
   ],
   "source": [
    "df = pd.read_csv('C:\\\\Users\\\\Administrator\\\\Downloads\\\\out_file_by_inn_223_44_last.csv', encoding='utf-16', sep='\\t')"
   ]
  },
  {
   "cell_type": "code",
   "execution_count": 8,
   "id": "add924d8-2bfd-4045-a842-0838f63ac08e",
   "metadata": {
    "tags": []
   },
   "outputs": [
    {
     "data": {
      "text/plain": [
       "(10946943, 25)"
      ]
     },
     "execution_count": 8,
     "metadata": {},
     "output_type": "execute_result"
    }
   ],
   "source": [
    "df.shape"
   ]
  },
  {
   "cell_type": "code",
   "execution_count": 9,
   "id": "ecf6b058-0230-4c05-bf7c-ec9b86e3c62b",
   "metadata": {},
   "outputs": [
    {
     "name": "stderr",
     "output_type": "stream",
     "text": [
      "100%|██████████| 10946943/10946943 [00:08<00:00, 1343878.99it/s]\n"
     ]
    }
   ],
   "source": [
    "df['purch'] = df['Реестровый номер закупки'].progress_apply(lambda x:x[1:])"
   ]
  },
  {
   "cell_type": "code",
   "execution_count": 11,
   "id": "cb9c6f8a-bfa2-4724-b65e-fba84587f2d3",
   "metadata": {},
   "outputs": [],
   "source": [
    "df = df.loc[df['Закупки по']=='44-ФЗ']\n",
    "df = df.loc[df['Этап закупки']=='Определение поставщика завершено']"
   ]
  },
  {
   "cell_type": "code",
   "execution_count": 12,
   "id": "70919a0c-d244-4308-b1ff-97184760c2c6",
   "metadata": {},
   "outputs": [],
   "source": [
    "df[\"Дата обновления\"] = pd.to_datetime(df[\"Дата обновления\"], format=\"%y.%m.%Y\")"
   ]
  },
  {
   "cell_type": "code",
   "execution_count": 13,
   "id": "788b8849-dd92-49a8-b31c-3a878ce22703",
   "metadata": {},
   "outputs": [
    {
     "name": "stderr",
     "output_type": "stream",
     "text": [
      "100%|██████████| 6802186/6802186 [00:20<00:00, 329575.61it/s] \n"
     ]
    }
   ],
   "source": [
    "df[\"Год обновления\"] = df[\"Дата обновления\"].progress_apply(lambda x: x.year)"
   ]
  },
  {
   "cell_type": "code",
   "execution_count": 14,
   "id": "dd13c6af-9f20-4662-ae27-d792df7870bb",
   "metadata": {},
   "outputs": [],
   "source": [
    "df = df[df[\"Год обновления\"].isin([2019, 2020, 2021])]"
   ]
  },
  {
   "cell_type": "code",
   "execution_count": 19,
   "id": "c81d3b49-8a17-4532-b727-13744c7e50a7",
   "metadata": {},
   "outputs": [
    {
     "data": {
      "text/plain": [
       "129356   2021-06-01\n",
       "129357   2021-06-01\n",
       "129358   2021-06-01\n",
       "129359   2021-06-01\n",
       "129360   2021-06-01\n",
       "            ...    \n",
       "458515   2020-07-01\n",
       "458516   2020-07-01\n",
       "458517   2020-07-01\n",
       "458518   2020-07-01\n",
       "458519   2020-07-01\n",
       "Name: Дата обновления, Length: 60000, dtype: datetime64[ns]"
      ]
     },
     "execution_count": 19,
     "metadata": {},
     "output_type": "execute_result"
    }
   ],
   "source": [
    "df[\"Дата обновления\"]"
   ]
  },
  {
   "cell_type": "code",
   "execution_count": 15,
   "id": "c69b2808-63e4-4ace-8d09-1a0875c3dbce",
   "metadata": {},
   "outputs": [
    {
     "data": {
      "text/plain": [
       "(2152814, 27)"
      ]
     },
     "execution_count": 15,
     "metadata": {},
     "output_type": "execute_result"
    }
   ],
   "source": [
    "df.shape"
   ]
  },
  {
   "cell_type": "code",
   "execution_count": 16,
   "id": "da10714d-0d7e-403e-a535-ff3c680d8231",
   "metadata": {},
   "outputs": [],
   "source": [
    "start_index = 30000\n",
    "end_index = 90000\n",
    "df = df[start_index:end_index]"
   ]
  },
  {
   "cell_type": "code",
   "execution_count": 24,
   "id": "451f235d-2373-434f-b59c-a857537110d1",
   "metadata": {},
   "outputs": [],
   "source": [
    "import pickle"
   ]
  },
  {
   "cell_type": "code",
   "execution_count": 18,
   "id": "67f027ae-9f33-43c3-8e2d-53e45006e6bc",
   "metadata": {
    "tags": []
   },
   "outputs": [
    {
     "name": "stderr",
     "output_type": "stream",
     "text": [
      "100%|██████████| 60000/60000 [12:14:32<00:00,  1.36it/s]   \n"
     ]
    }
   ],
   "source": [
    "df['winer'] = df['purch'].progress_apply(start_download)"
   ]
  },
  {
   "cell_type": "code",
   "execution_count": 25,
   "id": "2a19f3fa-1fbe-4df3-81a3-cdc05f0707f3",
   "metadata": {},
   "outputs": [],
   "source": [
    "with open('purch_winer_dicts\\\\0_60000.pickle', 'wb') as handle:\n",
    "    pickle.dump(d, handle, protocol=pickle.HIGHEST_PROTOCOL)"
   ]
  },
  {
   "cell_type": "code",
   "execution_count": 22,
   "id": "1da91b99-a2c0-403e-b531-55ff33a179b3",
   "metadata": {},
   "outputs": [],
   "source": [
    "d = pd.Series(df.winer.values, index=df.purch).to_dict()"
   ]
  },
  {
   "cell_type": "code",
   "execution_count": 49,
   "id": "9c6574c6-47cb-4dc9-a9dc-6ff932285ce4",
   "metadata": {},
   "outputs": [
    {
     "data": {
      "text/plain": [
       "purch\n",
       "0135100005420000062    2\n",
       "0349200006419000002    2\n",
       "Name: winer, dtype: int64"
      ]
     },
     "execution_count": 49,
     "metadata": {},
     "output_type": "execute_result"
    }
   ],
   "source": [
    "df.groupby(\"purch\").winer.count()[df.groupby(\"purch\").winer.count() > 1]"
   ]
  },
  {
   "cell_type": "code",
   "execution_count": 51,
   "id": "f614cc39-b375-41f4-a85a-bac5d401abbb",
   "metadata": {
    "tags": []
   },
   "outputs": [
    {
     "data": {
      "text/html": [
       "<div>\n",
       "<style scoped>\n",
       "    .dataframe tbody tr th:only-of-type {\n",
       "        vertical-align: middle;\n",
       "    }\n",
       "\n",
       "    .dataframe tbody tr th {\n",
       "        vertical-align: top;\n",
       "    }\n",
       "\n",
       "    .dataframe thead th {\n",
       "        text-align: right;\n",
       "    }\n",
       "</style>\n",
       "<table border=\"1\" class=\"dataframe\">\n",
       "  <thead>\n",
       "    <tr style=\"text-align: right;\">\n",
       "      <th></th>\n",
       "      <th>Закупки по</th>\n",
       "      <th>Реестровый номер закупки</th>\n",
       "      <th>Способ определения поставщика (подрядчика, исполнителя), подрядной организации (размещения закупки)</th>\n",
       "      <th>Наименование закупки</th>\n",
       "      <th>Предмет электронного аукциона (только для ПП РФ 615)</th>\n",
       "      <th>Идентификационный код закупки</th>\n",
       "      <th>Номер лота</th>\n",
       "      <th>Наименование лота</th>\n",
       "      <th>Начальная (максимальная) цена контракта</th>\n",
       "      <th>Валюта</th>\n",
       "      <th>...</th>\n",
       "      <th>Дата размещения</th>\n",
       "      <th>Дата обновления</th>\n",
       "      <th>Этап закупки</th>\n",
       "      <th>Особенности размещения заказа\\ Преимущества (44-ФЗ)</th>\n",
       "      <th>Дата начала подачи заявок</th>\n",
       "      <th>Дата окончания подачи заявок</th>\n",
       "      <th>Дата проведения электронного аукциона</th>\n",
       "      <th>purch</th>\n",
       "      <th>Год обновления</th>\n",
       "      <th>winer</th>\n",
       "    </tr>\n",
       "  </thead>\n",
       "  <tbody>\n",
       "    <tr>\n",
       "      <th>50715</th>\n",
       "      <td>44-ФЗ</td>\n",
       "      <td>№0349200006419000002</td>\n",
       "      <td>Закрытый аукцион</td>\n",
       "      <td>Поставка лекарственных средств и изделий медиц...</td>\n",
       "      <td>NaN</td>\n",
       "      <td>192519150190351900100100090013250244, 19251915...</td>\n",
       "      <td>1.0</td>\n",
       "      <td>Поставка лекарственных средств</td>\n",
       "      <td>212967.6</td>\n",
       "      <td>RUB</td>\n",
       "      <td>...</td>\n",
       "      <td>01.03.2019</td>\n",
       "      <td>2020-04-01</td>\n",
       "      <td>Определение поставщика завершено</td>\n",
       "      <td>NaN</td>\n",
       "      <td>01.03.2019</td>\n",
       "      <td>03.04.2019</td>\n",
       "      <td>NaN</td>\n",
       "      <td>0349200006419000002</td>\n",
       "      <td>2020</td>\n",
       "      <td>0</td>\n",
       "    </tr>\n",
       "    <tr>\n",
       "      <th>50716</th>\n",
       "      <td>44-ФЗ</td>\n",
       "      <td>№0349200006419000002</td>\n",
       "      <td>Закрытый аукцион</td>\n",
       "      <td>Поставка лекарственных средств и изделий медиц...</td>\n",
       "      <td>NaN</td>\n",
       "      <td>192519150190351900100100090013250244, 19251915...</td>\n",
       "      <td>2.0</td>\n",
       "      <td>Поставка изделий медицинского назначения</td>\n",
       "      <td>2920437.4</td>\n",
       "      <td>RUB</td>\n",
       "      <td>...</td>\n",
       "      <td>01.03.2019</td>\n",
       "      <td>2020-04-01</td>\n",
       "      <td>Определение поставщика завершено</td>\n",
       "      <td>NaN</td>\n",
       "      <td>01.03.2019</td>\n",
       "      <td>03.04.2019</td>\n",
       "      <td>NaN</td>\n",
       "      <td>0349200006419000002</td>\n",
       "      <td>2020</td>\n",
       "      <td>0</td>\n",
       "    </tr>\n",
       "    <tr>\n",
       "      <th>86547</th>\n",
       "      <td>44-ФЗ</td>\n",
       "      <td>№0135100005420000062</td>\n",
       "      <td>Закрытый конкурс с учетом положений ст. 111 За...</td>\n",
       "      <td>Оказание услуг по профессиональному обучению с...</td>\n",
       "      <td>NaN</td>\n",
       "      <td>201390801348039060100100370018531244, 20139080...</td>\n",
       "      <td>1.0</td>\n",
       "      <td>NaN</td>\n",
       "      <td>1228000.0</td>\n",
       "      <td>RUB</td>\n",
       "      <td>...</td>\n",
       "      <td>01.04.2020</td>\n",
       "      <td>2020-09-01</td>\n",
       "      <td>Определение поставщика завершено</td>\n",
       "      <td>NaN</td>\n",
       "      <td>NaN</td>\n",
       "      <td>07.05.2020</td>\n",
       "      <td>NaN</td>\n",
       "      <td>0135100005420000062</td>\n",
       "      <td>2020</td>\n",
       "      <td>0</td>\n",
       "    </tr>\n",
       "    <tr>\n",
       "      <th>86548</th>\n",
       "      <td>44-ФЗ</td>\n",
       "      <td>№0135100005420000062</td>\n",
       "      <td>Закрытый конкурс с учетом положений ст. 111 За...</td>\n",
       "      <td>Оказание услуг по профессиональному обучению с...</td>\n",
       "      <td>NaN</td>\n",
       "      <td>201390801348039060100100370018531244, 20139080...</td>\n",
       "      <td>2.0</td>\n",
       "      <td>NaN</td>\n",
       "      <td>216000.0</td>\n",
       "      <td>RUB</td>\n",
       "      <td>...</td>\n",
       "      <td>01.04.2020</td>\n",
       "      <td>2020-09-01</td>\n",
       "      <td>Определение поставщика завершено</td>\n",
       "      <td>NaN</td>\n",
       "      <td>NaN</td>\n",
       "      <td>07.05.2020</td>\n",
       "      <td>NaN</td>\n",
       "      <td>0135100005420000062</td>\n",
       "      <td>2020</td>\n",
       "      <td>0</td>\n",
       "    </tr>\n",
       "  </tbody>\n",
       "</table>\n",
       "<p>4 rows × 28 columns</p>\n",
       "</div>"
      ],
      "text/plain": [
       "      Закупки по Реестровый номер закупки  \\\n",
       "50715      44-ФЗ     №0349200006419000002   \n",
       "50716      44-ФЗ     №0349200006419000002   \n",
       "86547      44-ФЗ     №0135100005420000062   \n",
       "86548      44-ФЗ     №0135100005420000062   \n",
       "\n",
       "      Способ определения поставщика (подрядчика, исполнителя), подрядной организации (размещения закупки)  \\\n",
       "50715                                   Закрытый аукцион                                                    \n",
       "50716                                   Закрытый аукцион                                                    \n",
       "86547  Закрытый конкурс с учетом положений ст. 111 За...                                                    \n",
       "86548  Закрытый конкурс с учетом положений ст. 111 За...                                                    \n",
       "\n",
       "                                    Наименование закупки  \\\n",
       "50715  Поставка лекарственных средств и изделий медиц...   \n",
       "50716  Поставка лекарственных средств и изделий медиц...   \n",
       "86547  Оказание услуг по профессиональному обучению с...   \n",
       "86548  Оказание услуг по профессиональному обучению с...   \n",
       "\n",
       "       Предмет электронного аукциона (только для ПП РФ 615)  \\\n",
       "50715                                                NaN      \n",
       "50716                                                NaN      \n",
       "86547                                                NaN      \n",
       "86548                                                NaN      \n",
       "\n",
       "                           Идентификационный код закупки  Номер лота  \\\n",
       "50715  192519150190351900100100090013250244, 19251915...         1.0   \n",
       "50716  192519150190351900100100090013250244, 19251915...         2.0   \n",
       "86547  201390801348039060100100370018531244, 20139080...         1.0   \n",
       "86548  201390801348039060100100370018531244, 20139080...         2.0   \n",
       "\n",
       "                              Наименование лота  \\\n",
       "50715           Поставка лекарственных средств    \n",
       "50716  Поставка изделий медицинского назначения   \n",
       "86547                                       NaN   \n",
       "86548                                       NaN   \n",
       "\n",
       "       Начальная (максимальная) цена контракта Валюта  ...  Дата размещения  \\\n",
       "50715                                 212967.6    RUB  ...       01.03.2019   \n",
       "50716                                2920437.4    RUB  ...       01.03.2019   \n",
       "86547                                1228000.0    RUB  ...       01.04.2020   \n",
       "86548                                 216000.0    RUB  ...       01.04.2020   \n",
       "\n",
       "      Дата обновления                      Этап закупки  \\\n",
       "50715      2020-04-01  Определение поставщика завершено   \n",
       "50716      2020-04-01  Определение поставщика завершено   \n",
       "86547      2020-09-01  Определение поставщика завершено   \n",
       "86548      2020-09-01  Определение поставщика завершено   \n",
       "\n",
       "       Особенности размещения заказа\\ Преимущества (44-ФЗ)  \\\n",
       "50715                                                NaN     \n",
       "50716                                                NaN     \n",
       "86547                                                NaN     \n",
       "86548                                                NaN     \n",
       "\n",
       "      Дата начала подачи заявок Дата окончания подачи заявок  \\\n",
       "50715                01.03.2019                   03.04.2019   \n",
       "50716                01.03.2019                   03.04.2019   \n",
       "86547                       NaN                   07.05.2020   \n",
       "86548                       NaN                   07.05.2020   \n",
       "\n",
       "      Дата проведения электронного аукциона                purch  \\\n",
       "50715                                   NaN  0349200006419000002   \n",
       "50716                                   NaN  0349200006419000002   \n",
       "86547                                   NaN  0135100005420000062   \n",
       "86548                                   NaN  0135100005420000062   \n",
       "\n",
       "      Год обновления winer  \n",
       "50715           2020     0  \n",
       "50716           2020     0  \n",
       "86547           2020     0  \n",
       "86548           2020     0  \n",
       "\n",
       "[4 rows x 28 columns]"
      ]
     },
     "execution_count": 51,
     "metadata": {},
     "output_type": "execute_result"
    }
   ],
   "source": [
    "df[df.purch.isin([\"0135100005420000062\", \"0349200006419000002\"])]"
   ]
  },
  {
   "cell_type": "code",
   "execution_count": 90,
   "id": "df8e3823-ac59-4869-8594-472621e85a68",
   "metadata": {},
   "outputs": [],
   "source": [
    "df.to_excel('res_60К.xlsx')"
   ]
  },
  {
   "cell_type": "code",
   "execution_count": 82,
   "id": "37f4905d-8787-46de-bbcf-2245275017b2",
   "metadata": {},
   "outputs": [
    {
     "data": {
      "text/plain": [
       "'C:\\\\Users\\\\Administrator'"
      ]
     },
     "execution_count": 82,
     "metadata": {},
     "output_type": "execute_result"
    }
   ],
   "source": [
    "pwd"
   ]
  },
  {
   "cell_type": "code",
   "execution_count": 20,
   "id": "11192c2b-f411-4d51-b076-8cb4d6167a54",
   "metadata": {},
   "outputs": [
    {
     "data": {
      "text/plain": [
       "(60000, 28)"
      ]
     },
     "execution_count": 20,
     "metadata": {},
     "output_type": "execute_result"
    }
   ],
   "source": [
    "df.shape"
   ]
  },
  {
   "cell_type": "code",
   "execution_count": 21,
   "id": "36861d59-28a8-4fa9-9ae4-87dad49357bc",
   "metadata": {},
   "outputs": [
    {
     "data": {
      "text/html": [
       "<div>\n",
       "<style scoped>\n",
       "    .dataframe tbody tr th:only-of-type {\n",
       "        vertical-align: middle;\n",
       "    }\n",
       "\n",
       "    .dataframe tbody tr th {\n",
       "        vertical-align: top;\n",
       "    }\n",
       "\n",
       "    .dataframe thead th {\n",
       "        text-align: right;\n",
       "    }\n",
       "</style>\n",
       "<table border=\"1\" class=\"dataframe\">\n",
       "  <thead>\n",
       "    <tr style=\"text-align: right;\">\n",
       "      <th></th>\n",
       "      <th>Закупки по</th>\n",
       "      <th>Реестровый номер закупки</th>\n",
       "      <th>Способ определения поставщика (подрядчика, исполнителя), подрядной организации (размещения закупки)</th>\n",
       "      <th>Наименование закупки</th>\n",
       "      <th>Предмет электронного аукциона (только для ПП РФ 615)</th>\n",
       "      <th>Идентификационный код закупки</th>\n",
       "      <th>Номер лота</th>\n",
       "      <th>Наименование лота</th>\n",
       "      <th>Начальная (максимальная) цена контракта</th>\n",
       "      <th>Валюта</th>\n",
       "      <th>...</th>\n",
       "      <th>Дата размещения</th>\n",
       "      <th>Дата обновления</th>\n",
       "      <th>Этап закупки</th>\n",
       "      <th>Особенности размещения заказа\\ Преимущества (44-ФЗ)</th>\n",
       "      <th>Дата начала подачи заявок</th>\n",
       "      <th>Дата окончания подачи заявок</th>\n",
       "      <th>Дата проведения электронного аукциона</th>\n",
       "      <th>purch</th>\n",
       "      <th>Год обновления</th>\n",
       "      <th>winer</th>\n",
       "    </tr>\n",
       "  </thead>\n",
       "  <tbody>\n",
       "    <tr>\n",
       "      <th>129356</th>\n",
       "      <td>44-ФЗ</td>\n",
       "      <td>№0369200018921000065</td>\n",
       "      <td>Электронный аукцион</td>\n",
       "      <td>Поставка расходных материалов из пластика для КДЛ</td>\n",
       "      <td>NaN</td>\n",
       "      <td>'212745104017574510100100050050000244'</td>\n",
       "      <td>NaN</td>\n",
       "      <td>NaN</td>\n",
       "      <td>427185.00</td>\n",
       "      <td>RUB</td>\n",
       "      <td>...</td>\n",
       "      <td>01.06.2021</td>\n",
       "      <td>2021-06-01</td>\n",
       "      <td>Определение поставщика завершено</td>\n",
       "      <td>Участникам, заявки или окончательные предложен...</td>\n",
       "      <td>01.06.2021</td>\n",
       "      <td>09.06.2021</td>\n",
       "      <td>NaN</td>\n",
       "      <td>0369200018921000065</td>\n",
       "      <td>2021</td>\n",
       "      <td>2540221551</td>\n",
       "    </tr>\n",
       "    <tr>\n",
       "      <th>129357</th>\n",
       "      <td>44-ФЗ</td>\n",
       "      <td>№0190300001221000378</td>\n",
       "      <td>Электронный аукцион</td>\n",
       "      <td>поставка компьютерной техники</td>\n",
       "      <td>NaN</td>\n",
       "      <td>'213890302052489030100100490010000244'</td>\n",
       "      <td>NaN</td>\n",
       "      <td>NaN</td>\n",
       "      <td>818533.05</td>\n",
       "      <td>RUB</td>\n",
       "      <td>...</td>\n",
       "      <td>01.06.2021</td>\n",
       "      <td>2021-06-01</td>\n",
       "      <td>Определение поставщика завершено</td>\n",
       "      <td>Участникам, заявки или окончательные предложен...</td>\n",
       "      <td>01.06.2021</td>\n",
       "      <td>11.06.2021</td>\n",
       "      <td>NaN</td>\n",
       "      <td>0190300001221000378</td>\n",
       "      <td>2021</td>\n",
       "      <td>665800615409</td>\n",
       "    </tr>\n",
       "    <tr>\n",
       "      <th>129358</th>\n",
       "      <td>44-ФЗ</td>\n",
       "      <td>№0339100023721000017</td>\n",
       "      <td>Электронный аукцион</td>\n",
       "      <td>Оказание услуг по уборке и обслуживанию зданий...</td>\n",
       "      <td>NaN</td>\n",
       "      <td>'211421702748542170100100060018121244'</td>\n",
       "      <td>NaN</td>\n",
       "      <td>NaN</td>\n",
       "      <td>5923433.52</td>\n",
       "      <td>RUB</td>\n",
       "      <td>...</td>\n",
       "      <td>01.06.2021</td>\n",
       "      <td>2021-06-01</td>\n",
       "      <td>Определение поставщика завершено</td>\n",
       "      <td>NaN</td>\n",
       "      <td>01.06.2021</td>\n",
       "      <td>09.06.2021</td>\n",
       "      <td>NaN</td>\n",
       "      <td>0339100023721000017</td>\n",
       "      <td>2021</td>\n",
       "      <td>420506674093</td>\n",
       "    </tr>\n",
       "    <tr>\n",
       "      <th>129359</th>\n",
       "      <td>44-ФЗ</td>\n",
       "      <td>№0369200018921000066</td>\n",
       "      <td>Электронный аукцион</td>\n",
       "      <td>Поставка микроцентрифужных пробирок, объем 0,2мл</td>\n",
       "      <td>NaN</td>\n",
       "      <td>'212745104017574510100100050060000244'</td>\n",
       "      <td>NaN</td>\n",
       "      <td>NaN</td>\n",
       "      <td>283200.00</td>\n",
       "      <td>RUB</td>\n",
       "      <td>...</td>\n",
       "      <td>01.06.2021</td>\n",
       "      <td>2021-06-01</td>\n",
       "      <td>Определение поставщика завершено</td>\n",
       "      <td>Участникам, заявки или окончательные предложен...</td>\n",
       "      <td>01.06.2021</td>\n",
       "      <td>09.06.2021</td>\n",
       "      <td>NaN</td>\n",
       "      <td>0369200018921000066</td>\n",
       "      <td>2021</td>\n",
       "      <td>3328475402</td>\n",
       "    </tr>\n",
       "    <tr>\n",
       "      <th>129360</th>\n",
       "      <td>44-ФЗ</td>\n",
       "      <td>№0127200000221002809</td>\n",
       "      <td>Электронный аукцион</td>\n",
       "      <td>Закупка изделий медицинского назначения</td>\n",
       "      <td>NaN</td>\n",
       "      <td>'212320100089532570100100150160000244'</td>\n",
       "      <td>NaN</td>\n",
       "      <td>NaN</td>\n",
       "      <td>421825.00</td>\n",
       "      <td>RUB</td>\n",
       "      <td>...</td>\n",
       "      <td>01.06.2021</td>\n",
       "      <td>2021-06-01</td>\n",
       "      <td>Определение поставщика завершено</td>\n",
       "      <td>Участникам, заявки или окончательные предложен...</td>\n",
       "      <td>01.06.2021</td>\n",
       "      <td>09.06.2021</td>\n",
       "      <td>NaN</td>\n",
       "      <td>0127200000221002809</td>\n",
       "      <td>2021</td>\n",
       "      <td>3257054518</td>\n",
       "    </tr>\n",
       "  </tbody>\n",
       "</table>\n",
       "<p>5 rows × 28 columns</p>\n",
       "</div>"
      ],
      "text/plain": [
       "       Закупки по Реестровый номер закупки  \\\n",
       "129356      44-ФЗ     №0369200018921000065   \n",
       "129357      44-ФЗ     №0190300001221000378   \n",
       "129358      44-ФЗ     №0339100023721000017   \n",
       "129359      44-ФЗ     №0369200018921000066   \n",
       "129360      44-ФЗ     №0127200000221002809   \n",
       "\n",
       "       Способ определения поставщика (подрядчика, исполнителя), подрядной организации (размещения закупки)  \\\n",
       "129356                                Электронный аукцион                                                    \n",
       "129357                                Электронный аукцион                                                    \n",
       "129358                                Электронный аукцион                                                    \n",
       "129359                                Электронный аукцион                                                    \n",
       "129360                                Электронный аукцион                                                    \n",
       "\n",
       "                                     Наименование закупки  \\\n",
       "129356  Поставка расходных материалов из пластика для КДЛ   \n",
       "129357                      поставка компьютерной техники   \n",
       "129358  Оказание услуг по уборке и обслуживанию зданий...   \n",
       "129359   Поставка микроцентрифужных пробирок, объем 0,2мл   \n",
       "129360            Закупка изделий медицинского назначения   \n",
       "\n",
       "        Предмет электронного аукциона (только для ПП РФ 615)  \\\n",
       "129356                                                NaN      \n",
       "129357                                                NaN      \n",
       "129358                                                NaN      \n",
       "129359                                                NaN      \n",
       "129360                                                NaN      \n",
       "\n",
       "                 Идентификационный код закупки  Номер лота Наименование лота  \\\n",
       "129356  '212745104017574510100100050050000244'         NaN               NaN   \n",
       "129357  '213890302052489030100100490010000244'         NaN               NaN   \n",
       "129358  '211421702748542170100100060018121244'         NaN               NaN   \n",
       "129359  '212745104017574510100100050060000244'         NaN               NaN   \n",
       "129360  '212320100089532570100100150160000244'         NaN               NaN   \n",
       "\n",
       "        Начальная (максимальная) цена контракта Валюта  ...  Дата размещения  \\\n",
       "129356                                427185.00    RUB  ...       01.06.2021   \n",
       "129357                                818533.05    RUB  ...       01.06.2021   \n",
       "129358                               5923433.52    RUB  ...       01.06.2021   \n",
       "129359                                283200.00    RUB  ...       01.06.2021   \n",
       "129360                                421825.00    RUB  ...       01.06.2021   \n",
       "\n",
       "       Дата обновления                      Этап закупки  \\\n",
       "129356      2021-06-01  Определение поставщика завершено   \n",
       "129357      2021-06-01  Определение поставщика завершено   \n",
       "129358      2021-06-01  Определение поставщика завершено   \n",
       "129359      2021-06-01  Определение поставщика завершено   \n",
       "129360      2021-06-01  Определение поставщика завершено   \n",
       "\n",
       "        Особенности размещения заказа\\ Преимущества (44-ФЗ)  \\\n",
       "129356  Участникам, заявки или окончательные предложен...     \n",
       "129357  Участникам, заявки или окончательные предложен...     \n",
       "129358                                                NaN     \n",
       "129359  Участникам, заявки или окончательные предложен...     \n",
       "129360  Участникам, заявки или окончательные предложен...     \n",
       "\n",
       "       Дата начала подачи заявок Дата окончания подачи заявок  \\\n",
       "129356                01.06.2021                   09.06.2021   \n",
       "129357                01.06.2021                   11.06.2021   \n",
       "129358                01.06.2021                   09.06.2021   \n",
       "129359                01.06.2021                   09.06.2021   \n",
       "129360                01.06.2021                   09.06.2021   \n",
       "\n",
       "       Дата проведения электронного аукциона                purch  \\\n",
       "129356                                   NaN  0369200018921000065   \n",
       "129357                                   NaN  0190300001221000378   \n",
       "129358                                   NaN  0339100023721000017   \n",
       "129359                                   NaN  0369200018921000066   \n",
       "129360                                   NaN  0127200000221002809   \n",
       "\n",
       "       Год обновления         winer  \n",
       "129356           2021    2540221551  \n",
       "129357           2021  665800615409  \n",
       "129358           2021  420506674093  \n",
       "129359           2021    3328475402  \n",
       "129360           2021    3257054518  \n",
       "\n",
       "[5 rows x 28 columns]"
      ]
     },
     "execution_count": 21,
     "metadata": {},
     "output_type": "execute_result"
    }
   ],
   "source": [
    "df.head(5)"
   ]
  },
  {
   "cell_type": "code",
   "execution_count": null,
   "id": "8dc234ec-a13e-4b94-8cd4-da9dd74cc68c",
   "metadata": {},
   "outputs": [],
   "source": []
  }
 ],
 "metadata": {
  "kernelspec": {
   "display_name": "Python 3",
   "language": "python",
   "name": "python3"
  },
  "language_info": {
   "codemirror_mode": {
    "name": "ipython",
    "version": 3
   },
   "file_extension": ".py",
   "mimetype": "text/x-python",
   "name": "python",
   "nbconvert_exporter": "python",
   "pygments_lexer": "ipython3",
   "version": "3.8.8"
  }
 },
 "nbformat": 4,
 "nbformat_minor": 5
}
