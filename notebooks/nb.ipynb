{
 "cells": [
  {
   "cell_type": "code",
   "execution_count": 1,
   "id": "4d24e2f8",
   "metadata": {},
   "outputs": [],
   "source": [
    "import os\n",
    "import csv\n",
    "import pandas as pd\n",
    "import datetime\n",
    "\n",
    "DATA_PATH = \"data\""
   ]
  },
  {
   "cell_type": "code",
   "execution_count": 2,
   "id": "3e4bbc4b",
   "metadata": {},
   "outputs": [
    {
     "name": "stdout",
     "output_type": "stream",
     "text": [
      "Len inns -  9080\n"
     ]
    }
   ],
   "source": [
    "inns = pd.read_excel(os.path.join(DATA_PATH, \"список инн.xlsx\"), dtype={\"requested_inn_dadata\": str})\n",
    "print(\"Len inns - \", inns.shape[0])\n",
    "# inns = inns[inns.requested_inn_dadata.apply(lambda s: len(s) in [10, 12])]\n",
    "# print(\"Len inns after filter - \", inns.shape[0])"
   ]
  },
  {
   "cell_type": "code",
   "execution_count": 3,
   "id": "d5c08b84",
   "metadata": {},
   "outputs": [
    {
     "name": "stderr",
     "output_type": "stream",
     "text": [
      "/usr/local/lib/python3.9/site-packages/IPython/core/interactiveshell.py:3441: FutureWarning: The error_bad_lines argument has been deprecated and will be removed in a future version.\n",
      "\n",
      "\n",
      "  exec(code_obj, self.user_global_ns, self.user_ns)\n",
      "/usr/local/lib/python3.9/site-packages/IPython/core/interactiveshell.py:3441: DtypeWarning: Columns (11) have mixed types.Specify dtype option on import or set low_memory=False.\n",
      "  exec(code_obj, self.user_global_ns, self.user_ns)\n"
     ]
    }
   ],
   "source": [
    "inns_info = pd.read_csv(os.path.join(DATA_PATH, \"out_file.csv\"), engine=\"c\", encoding=\"utf-16\", sep='\\t', error_bad_lines=False, dtype={'INN': object})"
   ]
  },
  {
   "cell_type": "code",
   "execution_count": 10,
   "id": "16abc741",
   "metadata": {},
   "outputs": [
    {
     "data": {
      "text/plain": [
       "Index(['Закупки по', 'Реестровый номер закупки',\n",
       "       'Способ определения поставщика (подрядчика, исполнителя), подрядной организации (размещения закупки)',\n",
       "       'Наименование закупки',\n",
       "       'Предмет электронного аукциона (только для ПП РФ 615)',\n",
       "       'Идентификационный код закупки', 'Номер лота', 'Наименование лота',\n",
       "       'Начальная (максимальная) цена контракта', 'Валюта',\n",
       "       'Начальная (максимальная) цена в валюте контракта', 'Валюта контракта',\n",
       "       'Классификация по ОКДП', 'Классификация по ОКПД',\n",
       "       'Классификация по ОКПД2', 'Код позиции', 'Наименование Заказчика',\n",
       "       'Организация, осуществляющая размещение ', 'Дата размещения',\n",
       "       'Дата обновления', 'Этап закупки',\n",
       "       'Особенности размещения заказа\\ Преимущества (44-ФЗ)',\n",
       "       'Дата начала подачи заявок', 'Дата окончания подачи заявок',\n",
       "       'Дата проведения электронного аукциона', 'INN'],\n",
       "      dtype='object')"
      ]
     },
     "execution_count": 10,
     "metadata": {},
     "output_type": "execute_result"
    }
   ],
   "source": [
    "inns_info.columns"
   ]
  },
  {
   "cell_type": "code",
   "execution_count": 11,
   "id": "91c26684",
   "metadata": {},
   "outputs": [],
   "source": [
    "def convert_currency(curname, amount):\n",
    "    dict_curr_course = {\"USD\": 73, \"EUR\": 87, \"RUB\": 1}\n",
    "    return amount * dict_curr_course[curname] if amount is not None else None\n",
    "\n",
    "def isfloat(value):\n",
    "    try:\n",
    "        float(value)\n",
    "        return True\n",
    "    except ValueError:\n",
    "        return False"
   ]
  },
  {
   "cell_type": "code",
   "execution_count": 12,
   "id": "f2959bc8",
   "metadata": {},
   "outputs": [
    {
     "data": {
      "text/plain": [
       "10    180189\n",
       "12     30676\n",
       "9       7977\n",
       "11      2201\n",
       "3       1512\n",
       "Name: INN, dtype: int64"
      ]
     },
     "execution_count": 12,
     "metadata": {},
     "output_type": "execute_result"
    }
   ],
   "source": [
    "inns_info.INN.apply(lambda s: len(s)).value_counts()"
   ]
  },
  {
   "cell_type": "code",
   "execution_count": 13,
   "id": "34497924",
   "metadata": {},
   "outputs": [],
   "source": [
    "#inns_info.dropna(subset=['INN'], inplace=True)\n",
    "#inns_info.dropna(subset=['Дата размещения'], inplace=True)\n",
    "inns_info.INN = inns_info.INN.apply(lambda s: '0' + s if len(s) in [9, 11] else s)\n",
    "assert set(inns_info.INN.apply(lambda s: len(s)).value_counts().index) == {3, 10, 12}\n",
    "inns_info[\"Дата размещения\"] = pd.to_datetime(inns_info[\"Дата размещения\"])\n",
    "inns_info = inns_info[inns_info[\"Валюта\"].isin([\"RUB\", \"USD\", \"EUR\"])]\n",
    "inns_uniq = inns_info.INN.unique()\n",
    "inns_info[\"Начальная (максимальная) цена контракта\"] = inns_info.apply(lambda x: convert_currency(x[9], x[8]), axis=1)\n",
    "log = inns_info[\"Начальная (максимальная) цена контракта\"].astype('str').apply(isfloat)\n",
    "inns_info = inns_info[log]\n",
    "inns_info[\"Начальная (максимальная) цена контракта\"] = inns_info[\"Начальная (максимальная) цена контракта\"].astype(\"float\")\n",
    "inns_info[\"year\"] = inns_info[\"Дата размещения\"].apply(lambda x: x.year)"
   ]
  },
  {
   "cell_type": "code",
   "execution_count": 14,
   "id": "cc1b2309",
   "metadata": {
    "scrolled": true
   },
   "outputs": [
    {
     "name": "stdout",
     "output_type": "stream",
     "text": [
      "Len inns in csv -  3038\n",
      "Len inns in excel -  9079\n",
      "Len intersection -  3038\n"
     ]
    }
   ],
   "source": [
    "print(\"Len inns in csv - \", len(set(inns_uniq)))\n",
    "print(\"Len inns in excel - \", len(set(inns.requested_inn_dadata.unique())))\n",
    "print(\"Len intersection - \", len(set(inns_uniq).intersection(inns.requested_inn_dadata.unique())))"
   ]
  },
  {
   "cell_type": "code",
   "execution_count": 15,
   "id": "4684c6b5",
   "metadata": {},
   "outputs": [],
   "source": [
    "sum_price = inns_info.groupby(\"INN\")[\"Начальная (максимальная) цена контракта\"].sum().to_dict()"
   ]
  },
  {
   "cell_type": "code",
   "execution_count": 16,
   "id": "d3aff68b",
   "metadata": {},
   "outputs": [],
   "source": [
    "max_price = inns_info.groupby(\"INN\")[\"Начальная (максимальная) цена контракта\"].max().to_dict()"
   ]
  },
  {
   "cell_type": "code",
   "execution_count": 17,
   "id": "e7aaaa84",
   "metadata": {},
   "outputs": [],
   "source": [
    "min_price = inns_info.groupby(\"INN\")[\"Начальная (максимальная) цена контракта\"].min().to_dict()"
   ]
  },
  {
   "cell_type": "code",
   "execution_count": 18,
   "id": "86cc5039",
   "metadata": {},
   "outputs": [],
   "source": [
    "mean_price = inns_info.groupby(\"INN\")[\"Начальная (максимальная) цена контракта\"].mean().to_dict()"
   ]
  },
  {
   "cell_type": "code",
   "execution_count": 19,
   "id": "29362624",
   "metadata": {},
   "outputs": [],
   "source": [
    "count_price = inns_info.groupby(\"INN\")[\"Начальная (максимальная) цена контракта\"].count().to_dict()"
   ]
  },
  {
   "cell_type": "code",
   "execution_count": 20,
   "id": "ca7b0a3e",
   "metadata": {},
   "outputs": [],
   "source": [
    "first_date = inns_info.groupby(\"INN\")[\"Дата размещения\"].min().to_dict()"
   ]
  },
  {
   "cell_type": "code",
   "execution_count": 21,
   "id": "26064b2e",
   "metadata": {},
   "outputs": [],
   "source": [
    "last_date = inns_info.groupby(\"INN\")[\"Дата размещения\"].max().to_dict()"
   ]
  },
  {
   "cell_type": "code",
   "execution_count": 22,
   "id": "3d64fe08",
   "metadata": {},
   "outputs": [],
   "source": [
    "df = pd.DataFrame({\"inn\": inns_uniq})\n",
    "df.inn = df.inn.astype('str')"
   ]
  },
  {
   "cell_type": "code",
   "execution_count": 23,
   "id": "6cee8572",
   "metadata": {},
   "outputs": [],
   "source": [
    "df[\"sum_price\"] = df.inn.apply(lambda x: sum_price[x] if x in sum_price else None)\n",
    "df[\"max_price\"] = df.inn.apply(lambda x: max_price[x] if x in max_price else None)\n",
    "df[\"min_price\"] = df.inn.apply(lambda x: min_price[x] if x in min_price else None)\n",
    "df[\"mean_price\"] = df.inn.apply(lambda x: mean_price[x] if x in mean_price else None)\n",
    "df[\"count_price\"] = df.inn.apply(lambda x: count_price[x] if x in count_price else None)\n",
    "df.dropna(subset=[\"max_price\"], inplace=True)\n",
    "df[\"count_price\"] = df[\"count_price\"].astype('int')\n",
    "df[\"first_date\"] = df.inn.apply(lambda x: first_date[x] if x in first_date else None)\n",
    "df[\"last_date\"] = df.inn.apply(lambda x: last_date[x] if x in last_date else None)"
   ]
  },
  {
   "cell_type": "code",
   "execution_count": 24,
   "id": "ec265079",
   "metadata": {},
   "outputs": [],
   "source": [
    "for year in list(range(2011, 2022)):\n",
    "    df[\"count_{0}\".format(year)] = 0"
   ]
  },
  {
   "cell_type": "code",
   "execution_count": 25,
   "id": "e1496fa4",
   "metadata": {},
   "outputs": [],
   "source": [
    "for year in list(range(2011, 2022)):\n",
    "    map_year = inns_info.groupby(\"INN\").year.apply(lambda x: (x == year).sum()).to_dict()\n",
    "    df[\"count_{0}\".format(year)] = df.inn.apply(lambda x: map_year[x] if x in map_year else None)"
   ]
  },
  {
   "cell_type": "code",
   "execution_count": 26,
   "id": "3b04c9b9",
   "metadata": {},
   "outputs": [],
   "source": [
    "for kind in (inns_info[\"Закупки по\"].value_counts()).index:\n",
    "    mapper = inns_info.groupby(\"INN\")[\"Закупки по\"].apply(lambda x: (x == kind).sum()).to_dict()\n",
    "    df[\"count_{0}\".format(kind)] = df.inn.apply(lambda x: mapper[x] if x in mapper else None)"
   ]
  },
  {
   "cell_type": "code",
   "execution_count": 27,
   "id": "e124bef2",
   "metadata": {},
   "outputs": [],
   "source": [
    "df.to_csv(os.path.join(DATA_PATH, \"features.csv\"), index=False)"
   ]
  },
  {
   "cell_type": "code",
   "execution_count": 30,
   "id": "5b85776e",
   "metadata": {},
   "outputs": [],
   "source": [
    "df = pd.read_csv(os.path.join(DATA_PATH, \"features.csv\"))"
   ]
  },
  {
   "cell_type": "code",
   "execution_count": 22,
   "id": "378f2837",
   "metadata": {},
   "outputs": [
    {
     "data": {
      "text/plain": [
       "0       100000000000\n",
       "1         1001270298\n",
       "2         1001289010\n",
       "3         1001294940\n",
       "4         1001345722\n",
       "            ...     \n",
       "3033      9731010674\n",
       "3034      9731044458\n",
       "3035    973301605244\n",
       "3036      9999999999\n",
       "3037    999999999999\n",
       "Name: inn, Length: 3038, dtype: object"
      ]
     },
     "execution_count": 22,
     "metadata": {},
     "output_type": "execute_result"
    }
   ],
   "source": [
    "df.inn"
   ]
  },
  {
   "cell_type": "markdown",
   "id": "9c6feedd",
   "metadata": {},
   "source": [
    "### Tf Idf transformation"
   ]
  },
  {
   "cell_type": "code",
   "execution_count": 9,
   "id": "f3fa81ca",
   "metadata": {},
   "outputs": [],
   "source": [
    "from sklearn.feature_extraction.text import TfidfVectorizer"
   ]
  },
  {
   "cell_type": "code",
   "execution_count": 6,
   "id": "e14e0172",
   "metadata": {},
   "outputs": [
    {
     "name": "stderr",
     "output_type": "stream",
     "text": [
      "[nltk_data] Downloading package stopwords to /root/nltk_data...\n",
      "[nltk_data]   Unzipping corpora/stopwords.zip.\n",
      "Installing mystem to /root/.local/bin/mystem from http://download.cdn.yandex.net/mystem/mystem-3.1-linux-64bit.tar.gz\n"
     ]
    }
   ],
   "source": [
    "import nltk\n",
    "nltk.download(\"stopwords\")\n",
    "#--------#\n",
    "\n",
    "from nltk.corpus import stopwords\n",
    "from pymystem3 import Mystem\n",
    "from string import punctuation\n",
    "\n",
    "#Create lemmatizer and stopwords list\n",
    "mystem = Mystem() \n",
    "russian_stopwords = stopwords.words(\"russian\")\n",
    "\n"
   ]
  },
  {
   "cell_type": "code",
   "execution_count": 28,
   "id": "267a736b",
   "metadata": {},
   "outputs": [],
   "source": [
    "#Preprocess function\n",
    "def preprocess_text(text):\n",
    "    #tokens = mystem.lemmatize(text.lower())\n",
    "    tokens = text.lower().split()\n",
    "    tokens = [token for token in tokens if token not in russian_stopwords\\\n",
    "              and token != \" \" \\\n",
    "              and token.strip() not in punctuation]\n",
    "    \n",
    "    text = \" \".join(tokens)\n",
    "    \n",
    "    return text"
   ]
  },
  {
   "cell_type": "code",
   "execution_count": 29,
   "id": "9d2a044d",
   "metadata": {},
   "outputs": [],
   "source": [
    "def get_n_words(corpus, n):\n",
    "    prep_corpus = []\n",
    "    for text in corpus:\n",
    "        prep_corpus.append(preprocess_text(text))\n",
    "    vectorizer = TfidfVectorizer()\n",
    "    X = vectorizer.fit_transform(prep_corpus)\n",
    "    M = X.toarray()\n",
    "    words = []\n",
    "    i = 0\n",
    "    for ind in M.sum(axis=0).argsort()[::-1]:\n",
    "        if vectorizer.get_feature_names()[ind] in stop_words:\n",
    "            continue\n",
    "        else:\n",
    "            words.append(vectorizer.get_feature_names()[ind])\n",
    "            i += 1\n",
    "        if i == 5:\n",
    "            break\n",
    "    return ','.join(words)"
   ]
  },
  {
   "cell_type": "code",
   "execution_count": 30,
   "id": "8649bad8",
   "metadata": {},
   "outputs": [
    {
     "ename": "NameError",
     "evalue": "name 'stop_words' is not defined",
     "output_type": "error",
     "traceback": [
      "\u001b[0;31m---------------------------------------------------------------------------\u001b[0m",
      "\u001b[0;31mNameError\u001b[0m                                 Traceback (most recent call last)",
      "\u001b[0;32m/tmp/ipykernel_9/3762038045.py\u001b[0m in \u001b[0;36m<module>\u001b[0;34m\u001b[0m\n\u001b[0;32m----> 1\u001b[0;31m \u001b[0minn_to_words\u001b[0m \u001b[0;34m=\u001b[0m \u001b[0minns_info\u001b[0m\u001b[0;34m.\u001b[0m\u001b[0mgroupby\u001b[0m\u001b[0;34m(\u001b[0m\u001b[0;34m\"INN\"\u001b[0m\u001b[0;34m)\u001b[0m\u001b[0;34m[\u001b[0m\u001b[0;34m\"Наименование закупки\"\u001b[0m\u001b[0;34m]\u001b[0m\u001b[0;34m.\u001b[0m\u001b[0mapply\u001b[0m\u001b[0;34m(\u001b[0m\u001b[0;32mlambda\u001b[0m \u001b[0mcorpus\u001b[0m\u001b[0;34m:\u001b[0m \u001b[0mget_n_words\u001b[0m\u001b[0;34m(\u001b[0m\u001b[0mlist\u001b[0m\u001b[0;34m(\u001b[0m\u001b[0mcorpus\u001b[0m\u001b[0;34m)\u001b[0m\u001b[0;34m,\u001b[0m \u001b[0;36m3\u001b[0m\u001b[0;34m)\u001b[0m\u001b[0;34m)\u001b[0m\u001b[0;34m.\u001b[0m\u001b[0mto_dict\u001b[0m\u001b[0;34m(\u001b[0m\u001b[0;34m)\u001b[0m\u001b[0;34m\u001b[0m\u001b[0;34m\u001b[0m\u001b[0m\n\u001b[0m",
      "\u001b[0;32m/usr/local/lib/python3.9/site-packages/pandas/core/groupby/generic.py\u001b[0m in \u001b[0;36mapply\u001b[0;34m(self, func, *args, **kwargs)\u001b[0m\n\u001b[1;32m    221\u001b[0m     )\n\u001b[1;32m    222\u001b[0m     \u001b[0;32mdef\u001b[0m \u001b[0mapply\u001b[0m\u001b[0;34m(\u001b[0m\u001b[0mself\u001b[0m\u001b[0;34m,\u001b[0m \u001b[0mfunc\u001b[0m\u001b[0;34m,\u001b[0m \u001b[0;34m*\u001b[0m\u001b[0margs\u001b[0m\u001b[0;34m,\u001b[0m \u001b[0;34m**\u001b[0m\u001b[0mkwargs\u001b[0m\u001b[0;34m)\u001b[0m\u001b[0;34m:\u001b[0m\u001b[0;34m\u001b[0m\u001b[0;34m\u001b[0m\u001b[0m\n\u001b[0;32m--> 223\u001b[0;31m         \u001b[0;32mreturn\u001b[0m \u001b[0msuper\u001b[0m\u001b[0;34m(\u001b[0m\u001b[0;34m)\u001b[0m\u001b[0;34m.\u001b[0m\u001b[0mapply\u001b[0m\u001b[0;34m(\u001b[0m\u001b[0mfunc\u001b[0m\u001b[0;34m,\u001b[0m \u001b[0;34m*\u001b[0m\u001b[0margs\u001b[0m\u001b[0;34m,\u001b[0m \u001b[0;34m**\u001b[0m\u001b[0mkwargs\u001b[0m\u001b[0;34m)\u001b[0m\u001b[0;34m\u001b[0m\u001b[0;34m\u001b[0m\u001b[0m\n\u001b[0m\u001b[1;32m    224\u001b[0m \u001b[0;34m\u001b[0m\u001b[0m\n\u001b[1;32m    225\u001b[0m     \u001b[0;34m@\u001b[0m\u001b[0mdoc\u001b[0m\u001b[0;34m(\u001b[0m\u001b[0m_agg_template\u001b[0m\u001b[0;34m,\u001b[0m \u001b[0mexamples\u001b[0m\u001b[0;34m=\u001b[0m\u001b[0m_agg_examples_doc\u001b[0m\u001b[0;34m,\u001b[0m \u001b[0mklass\u001b[0m\u001b[0;34m=\u001b[0m\u001b[0;34m\"Series\"\u001b[0m\u001b[0;34m)\u001b[0m\u001b[0;34m\u001b[0m\u001b[0;34m\u001b[0m\u001b[0m\n",
      "\u001b[0;32m/usr/local/lib/python3.9/site-packages/pandas/core/groupby/groupby.py\u001b[0m in \u001b[0;36mapply\u001b[0;34m(self, func, *args, **kwargs)\u001b[0m\n\u001b[1;32m   1251\u001b[0m         \u001b[0;32mwith\u001b[0m \u001b[0moption_context\u001b[0m\u001b[0;34m(\u001b[0m\u001b[0;34m\"mode.chained_assignment\"\u001b[0m\u001b[0;34m,\u001b[0m \u001b[0;32mNone\u001b[0m\u001b[0;34m)\u001b[0m\u001b[0;34m:\u001b[0m\u001b[0;34m\u001b[0m\u001b[0;34m\u001b[0m\u001b[0m\n\u001b[1;32m   1252\u001b[0m             \u001b[0;32mtry\u001b[0m\u001b[0;34m:\u001b[0m\u001b[0;34m\u001b[0m\u001b[0;34m\u001b[0m\u001b[0m\n\u001b[0;32m-> 1253\u001b[0;31m                 \u001b[0mresult\u001b[0m \u001b[0;34m=\u001b[0m \u001b[0mself\u001b[0m\u001b[0;34m.\u001b[0m\u001b[0m_python_apply_general\u001b[0m\u001b[0;34m(\u001b[0m\u001b[0mf\u001b[0m\u001b[0;34m,\u001b[0m \u001b[0mself\u001b[0m\u001b[0;34m.\u001b[0m\u001b[0m_selected_obj\u001b[0m\u001b[0;34m)\u001b[0m\u001b[0;34m\u001b[0m\u001b[0;34m\u001b[0m\u001b[0m\n\u001b[0m\u001b[1;32m   1254\u001b[0m             \u001b[0;32mexcept\u001b[0m \u001b[0mTypeError\u001b[0m\u001b[0;34m:\u001b[0m\u001b[0;34m\u001b[0m\u001b[0;34m\u001b[0m\u001b[0m\n\u001b[1;32m   1255\u001b[0m                 \u001b[0;31m# gh-20949\u001b[0m\u001b[0;34m\u001b[0m\u001b[0;34m\u001b[0m\u001b[0;34m\u001b[0m\u001b[0m\n",
      "\u001b[0;32m/usr/local/lib/python3.9/site-packages/pandas/core/groupby/groupby.py\u001b[0m in \u001b[0;36m_python_apply_general\u001b[0;34m(self, f, data)\u001b[0m\n\u001b[1;32m   1285\u001b[0m             \u001b[0mdata\u001b[0m \u001b[0mafter\u001b[0m \u001b[0mapplying\u001b[0m \u001b[0mf\u001b[0m\u001b[0;34m\u001b[0m\u001b[0;34m\u001b[0m\u001b[0m\n\u001b[1;32m   1286\u001b[0m         \"\"\"\n\u001b[0;32m-> 1287\u001b[0;31m         \u001b[0mkeys\u001b[0m\u001b[0;34m,\u001b[0m \u001b[0mvalues\u001b[0m\u001b[0;34m,\u001b[0m \u001b[0mmutated\u001b[0m \u001b[0;34m=\u001b[0m \u001b[0mself\u001b[0m\u001b[0;34m.\u001b[0m\u001b[0mgrouper\u001b[0m\u001b[0;34m.\u001b[0m\u001b[0mapply\u001b[0m\u001b[0;34m(\u001b[0m\u001b[0mf\u001b[0m\u001b[0;34m,\u001b[0m \u001b[0mdata\u001b[0m\u001b[0;34m,\u001b[0m \u001b[0mself\u001b[0m\u001b[0;34m.\u001b[0m\u001b[0maxis\u001b[0m\u001b[0;34m)\u001b[0m\u001b[0;34m\u001b[0m\u001b[0;34m\u001b[0m\u001b[0m\n\u001b[0m\u001b[1;32m   1288\u001b[0m \u001b[0;34m\u001b[0m\u001b[0m\n\u001b[1;32m   1289\u001b[0m         return self._wrap_applied_output(\n",
      "\u001b[0;32m/usr/local/lib/python3.9/site-packages/pandas/core/groupby/ops.py\u001b[0m in \u001b[0;36mapply\u001b[0;34m(self, f, data, axis)\u001b[0m\n\u001b[1;32m    818\u001b[0m             \u001b[0;31m# group might be modified\u001b[0m\u001b[0;34m\u001b[0m\u001b[0;34m\u001b[0m\u001b[0;34m\u001b[0m\u001b[0m\n\u001b[1;32m    819\u001b[0m             \u001b[0mgroup_axes\u001b[0m \u001b[0;34m=\u001b[0m \u001b[0mgroup\u001b[0m\u001b[0;34m.\u001b[0m\u001b[0maxes\u001b[0m\u001b[0;34m\u001b[0m\u001b[0;34m\u001b[0m\u001b[0m\n\u001b[0;32m--> 820\u001b[0;31m             \u001b[0mres\u001b[0m \u001b[0;34m=\u001b[0m \u001b[0mf\u001b[0m\u001b[0;34m(\u001b[0m\u001b[0mgroup\u001b[0m\u001b[0;34m)\u001b[0m\u001b[0;34m\u001b[0m\u001b[0;34m\u001b[0m\u001b[0m\n\u001b[0m\u001b[1;32m    821\u001b[0m             \u001b[0;32mif\u001b[0m \u001b[0;32mnot\u001b[0m \u001b[0m_is_indexed_like\u001b[0m\u001b[0;34m(\u001b[0m\u001b[0mres\u001b[0m\u001b[0;34m,\u001b[0m \u001b[0mgroup_axes\u001b[0m\u001b[0;34m,\u001b[0m \u001b[0maxis\u001b[0m\u001b[0;34m)\u001b[0m\u001b[0;34m:\u001b[0m\u001b[0;34m\u001b[0m\u001b[0;34m\u001b[0m\u001b[0m\n\u001b[1;32m    822\u001b[0m                 \u001b[0mmutated\u001b[0m \u001b[0;34m=\u001b[0m \u001b[0;32mTrue\u001b[0m\u001b[0;34m\u001b[0m\u001b[0;34m\u001b[0m\u001b[0m\n",
      "\u001b[0;32m/tmp/ipykernel_9/3762038045.py\u001b[0m in \u001b[0;36m<lambda>\u001b[0;34m(corpus)\u001b[0m\n\u001b[0;32m----> 1\u001b[0;31m \u001b[0minn_to_words\u001b[0m \u001b[0;34m=\u001b[0m \u001b[0minns_info\u001b[0m\u001b[0;34m.\u001b[0m\u001b[0mgroupby\u001b[0m\u001b[0;34m(\u001b[0m\u001b[0;34m\"INN\"\u001b[0m\u001b[0;34m)\u001b[0m\u001b[0;34m[\u001b[0m\u001b[0;34m\"Наименование закупки\"\u001b[0m\u001b[0;34m]\u001b[0m\u001b[0;34m.\u001b[0m\u001b[0mapply\u001b[0m\u001b[0;34m(\u001b[0m\u001b[0;32mlambda\u001b[0m \u001b[0mcorpus\u001b[0m\u001b[0;34m:\u001b[0m \u001b[0mget_n_words\u001b[0m\u001b[0;34m(\u001b[0m\u001b[0mlist\u001b[0m\u001b[0;34m(\u001b[0m\u001b[0mcorpus\u001b[0m\u001b[0;34m)\u001b[0m\u001b[0;34m,\u001b[0m \u001b[0;36m3\u001b[0m\u001b[0;34m)\u001b[0m\u001b[0;34m)\u001b[0m\u001b[0;34m.\u001b[0m\u001b[0mto_dict\u001b[0m\u001b[0;34m(\u001b[0m\u001b[0;34m)\u001b[0m\u001b[0;34m\u001b[0m\u001b[0;34m\u001b[0m\u001b[0m\n\u001b[0m",
      "\u001b[0;32m/tmp/ipykernel_9/2697885895.py\u001b[0m in \u001b[0;36mget_n_words\u001b[0;34m(corpus, n)\u001b[0m\n\u001b[1;32m      9\u001b[0m     \u001b[0mi\u001b[0m \u001b[0;34m=\u001b[0m \u001b[0;36m0\u001b[0m\u001b[0;34m\u001b[0m\u001b[0;34m\u001b[0m\u001b[0m\n\u001b[1;32m     10\u001b[0m     \u001b[0;32mfor\u001b[0m \u001b[0mind\u001b[0m \u001b[0;32min\u001b[0m \u001b[0mM\u001b[0m\u001b[0;34m.\u001b[0m\u001b[0msum\u001b[0m\u001b[0;34m(\u001b[0m\u001b[0maxis\u001b[0m\u001b[0;34m=\u001b[0m\u001b[0;36m0\u001b[0m\u001b[0;34m)\u001b[0m\u001b[0;34m.\u001b[0m\u001b[0margsort\u001b[0m\u001b[0;34m(\u001b[0m\u001b[0;34m)\u001b[0m\u001b[0;34m[\u001b[0m\u001b[0;34m:\u001b[0m\u001b[0;34m:\u001b[0m\u001b[0;34m-\u001b[0m\u001b[0;36m1\u001b[0m\u001b[0;34m]\u001b[0m\u001b[0;34m:\u001b[0m\u001b[0;34m\u001b[0m\u001b[0;34m\u001b[0m\u001b[0m\n\u001b[0;32m---> 11\u001b[0;31m         \u001b[0;32mif\u001b[0m \u001b[0mvectorizer\u001b[0m\u001b[0;34m.\u001b[0m\u001b[0mget_feature_names\u001b[0m\u001b[0;34m(\u001b[0m\u001b[0;34m)\u001b[0m\u001b[0;34m[\u001b[0m\u001b[0mind\u001b[0m\u001b[0;34m]\u001b[0m \u001b[0;32min\u001b[0m \u001b[0mstop_words\u001b[0m\u001b[0;34m:\u001b[0m\u001b[0;34m\u001b[0m\u001b[0;34m\u001b[0m\u001b[0m\n\u001b[0m\u001b[1;32m     12\u001b[0m             \u001b[0;32mcontinue\u001b[0m\u001b[0;34m\u001b[0m\u001b[0;34m\u001b[0m\u001b[0m\n\u001b[1;32m     13\u001b[0m         \u001b[0;32melse\u001b[0m\u001b[0;34m:\u001b[0m\u001b[0;34m\u001b[0m\u001b[0;34m\u001b[0m\u001b[0m\n",
      "\u001b[0;31mNameError\u001b[0m: name 'stop_words' is not defined"
     ]
    }
   ],
   "source": [
    "inn_to_words = inns_info.groupby(\"INN\")[\"Наименование закупки\"].apply(lambda corpus: get_n_words(list(corpus), 3)).to_dict()"
   ]
  },
  {
   "cell_type": "code",
   "execution_count": 75,
   "id": "212fcaab",
   "metadata": {},
   "outputs": [],
   "source": [
    "df[\"words\"] = df.inn.apply(lambda x: inn_to_words[x] if x in inn_to_words else None)"
   ]
  },
  {
   "cell_type": "code",
   "execution_count": 77,
   "id": "4cbdcce4",
   "metadata": {},
   "outputs": [
    {
     "data": {
      "text/plain": [
       "0     предоставлению,спектаклях,участия,нгатоиб,дрес...\n",
       "1            км,моста,дороги,автомобильной,документации\n",
       "2     покрытия,асфальтобетонного,территории,дорог,ас...\n",
       "3     материалов,строительных,оборудования,материалы...\n",
       "4                сносу,многоквартирных,домов,жилых,кеми\n",
       "5      оконных,отопления,промывке,зданий,электрочайники\n",
       "6             товаров,канцелярских,бумага,писчая,кресел\n",
       "7           строительных,монтажных,здания,филиалов,нэск\n",
       "8        капитальный,адыгея,здания,района,строительство\n",
       "9             оконных,замена,блоков,капитальный,текущий\n",
       "10        пензы,травы,территории,благоустройству,района\n",
       "11     светильников,светодиодных,электротоваров,ламп,рк\n",
       "12               территории,сыктывкар,контейнеров,го,мо\n",
       "13                             мяса,птицы,кур,года,2018\n",
       "14               здания,дэс,сыктывкар,документации,коми\n",
       "15    хозяйство,технических,текущий,сыктывкар,помещений\n",
       "16                      помещений,рк,сыктывкар,гбу,коми\n",
       "17                       ухта,пгт,сносу,дома,территории\n",
       "18            капитальный,тепловой,сети,участка,текущий\n",
       "19    коми,многоквартирных,расположенных,республика,...\n",
       "20                аранец,автомобильной,дороги,зимней,рк\n",
       "21        футболки,футболка,пожарного,поставку,костюмов\n",
       "22                капитальному,кв,имущества,общего,2021\n",
       "23         лекарственных,препаратов,закупка,07,тестовая\n",
       "24           медицинских,овощи,продукты,фрукты,молочные\n",
       "25     медицинского,назначения,изделий,гбуз,медицинских\n",
       "26                 школы,системы,реализации,окон,общего\n",
       "27    обустройство,ремонтных,сельского,поселения,кап...\n",
       "28        зданий,проведению,ремонта,сооружений,текущего\n",
       "29    стендов,информационных,эвакуации,планов,изгото...\n",
       "30                        км,000,проекта,участке,дороги\n",
       "31    электротоваров,товаров,электротехнических,кабе...\n",
       "32              мяса,питания,продуктов,цыплят,бройлеров\n",
       "33    имущества,общего,дома,многоквартирного,капитал...\n",
       "34            детей,числа,приморского,края,приобретение\n",
       "35      конечностей,протезами,тест,российской,федерации\n",
       "36                  тестовые,торги,обратая,связь,провер\n",
       "37                       тест,2011,году,санаторно,право\n",
       "38              закупка,мяса,говядины,продуктов,питания\n",
       "39           окна,окон,металлические,шкафы,хозяйственно\n",
       "40    транспортных,федерального,управления,республик...\n",
       "41    жидкости,приобретение,незамерзающей,помещения,...\n",
       "42    установок,техническому,смонтированных,сигнализ...\n",
       "43       инвентаря,мягкого,закупка,посуды,хозяйственных\n",
       "44                         2020,района,опоп,году,города\n",
       "45      бронежилетов,масок,многоразовых,защитных,защиты\n",
       "46                           кв,лот,вл,якутскэнерго,пао\n",
       "47    товаров,продовольственных,продукции,алкогольно...\n",
       "48                 мест,сад,белья,постельного,оснащения\n",
       "49    кондиционеров,вентиляции,системы,приобретение,...\n",
       "Name: words, dtype: object"
      ]
     },
     "execution_count": 77,
     "metadata": {},
     "output_type": "execute_result"
    }
   ],
   "source": [
    "df.words[:50]"
   ]
  },
  {
   "cell_type": "code",
   "execution_count": 31,
   "id": "5362f9e3",
   "metadata": {},
   "outputs": [],
   "source": [
    "all_texts = inns_info[\"Наименование закупки\"]\n",
    "prep_all_texts = []\n",
    "for text in all_texts:\n",
    "    prep_all_texts.append(preprocess_text(text))"
   ]
  },
  {
   "cell_type": "code",
   "execution_count": null,
   "id": "627b783f",
   "metadata": {},
   "outputs": [],
   "source": [
    "vectorizer = TfidfVectorizer()\n",
    "X = vectorizer.fit_transform(prep_all_texts)"
   ]
  },
  {
   "cell_type": "code",
   "execution_count": null,
   "id": "3cab45b4",
   "metadata": {},
   "outputs": [],
   "source": [
    "stop_words = []\n",
    "for ind in np.squeeze(np.asarray(X.sum(axis=0))).argsort()[-10:][::-1]:\n",
    "    stop_words.append(vectorizer.get_feature_names()[ind])"
   ]
  },
  {
   "cell_type": "code",
   "execution_count": null,
   "id": "d4cadcbb",
   "metadata": {},
   "outputs": [],
   "source": []
  }
 ],
 "metadata": {
  "kernelspec": {
   "display_name": "Python 3 (ipykernel)",
   "language": "python",
   "name": "python3"
  },
  "language_info": {
   "codemirror_mode": {
    "name": "ipython",
    "version": 3
   },
   "file_extension": ".py",
   "mimetype": "text/x-python",
   "name": "python",
   "nbconvert_exporter": "python",
   "pygments_lexer": "ipython3",
   "version": "3.9.6"
  }
 },
 "nbformat": 4,
 "nbformat_minor": 5
}
