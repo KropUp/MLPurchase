{
 "cells": [
  {
   "cell_type": "code",
   "execution_count": 20,
   "id": "97ac14ea",
   "metadata": {},
   "outputs": [],
   "source": [
    "import os\n",
    "import pickle\n",
    "import pandas as pd\n",
    "from tqdm import tqdm\n",
    "\n",
    "import warnings\n",
    "warnings.filterwarnings('ignore')"
   ]
  },
  {
   "cell_type": "code",
   "execution_count": 24,
   "id": "3bb53567",
   "metadata": {},
   "outputs": [],
   "source": [
    "DATA_PATH = \"../data\"\n",
    "DICTS_PATH = \"../dicts\"\n",
    "DATA_FILENAME = \"data.csv\"\n",
    "data_file = os.path.join(DATA_PATH, DATA_FILENAME)\n",
    "dict_60000_path = os.path.join(DICTS_PATH, \"0_30000.pickle\")\n",
    "dict_30000_path = os.path.join(DICTS_PATH, \"0_60000.pickle\")\n",
    "dict_90000_120000_path = os.path.join(DICTS_PATH, \"0_90000_120000.pickle\")\n",
    "dict_120000_160000_path = os.path.join(DICTS_PATH, \"0_120000_160000.pickle\")\n",
    "dict_160000_200000_path = os.path.join(DICTS_PATH, \"0_160000_200000.pickle\")\n",
    "dict_200000_260000_path = os.path.join(DICTS_PATH, \"0_200000_260000.pickle\")\n",
    "dict_260000_320000_path = os.path.join(DICTS_PATH, \"0_260000_320000.pickle\")\n",
    "dict_320_380_path = os.path.join(DICTS_PATH, \"0_320_380.pickle\")\n",
    "dict_380_400_path = os.path.join(DICTS_PATH, \"0_380_400.pickle\")"
   ]
  },
  {
   "cell_type": "code",
   "execution_count": 22,
   "id": "d0f18b17",
   "metadata": {},
   "outputs": [
    {
     "name": "stderr",
     "output_type": "stream",
     "text": [
      "11it [04:47, 26.17s/it]\n"
     ]
    }
   ],
   "source": [
    "iter_csv = pd.read_csv(data_file, encoding=\"utf-16\", sep='\\t', iterator=True, chunksize=1000000)\n",
    "df = pd.concat([chunk[(chunk['Закупки по'] == '44-ФЗ') \n",
    "                & (chunk['Этап закупки']=='Определение поставщика завершено')\n",
    "                & (chunk[\"Дата обновления\"].str.split('.', expand=True).iloc[:, 2].astype(\"int\").isin([2019, 2020, 2021]))] \n",
    "                for chunk in tqdm(iter_csv)])"
   ]
  },
  {
   "cell_type": "code",
   "execution_count": 28,
   "id": "e01b12fd",
   "metadata": {},
   "outputs": [
    {
     "data": {
      "text/plain": [
       "(2152814, 26)"
      ]
     },
     "execution_count": 28,
     "metadata": {},
     "output_type": "execute_result"
    }
   ],
   "source": [
    "df.shape"
   ]
  },
  {
   "cell_type": "code",
   "execution_count": 25,
   "id": "003c86c0",
   "metadata": {},
   "outputs": [],
   "source": [
    "with open(dict_90000_120000_path, 'rb') as handle:\n",
    "    d_90_120 = pickle.load(handle)\n",
    "with open(dict_30000_path, 'rb') as handle:\n",
    "    d_30 = pickle.load(handle)\n",
    "with open(dict_60000_path, 'rb') as handle:\n",
    "    d_60 = pickle.load(handle)\n",
    "with open(dict_120000_160000_path, 'rb') as handle:\n",
    "    d_120_160 = pickle.load(handle)\n",
    "with open(dict_160000_200000_path, 'rb') as handle:\n",
    "    d_160_200 = pickle.load(handle)\n",
    "with open(dict_200000_260000_path, 'rb') as handle:\n",
    "    d_200_260 = pickle.load(handle)\n",
    "with open(dict_260000_320000_path, 'rb') as handle:\n",
    "    d_260_320 = pickle.load(handle)\n",
    "with open(dict_320_380_path, 'rb') as handle:\n",
    "    d_320_380 = pickle.load(handle)\n",
    "with open(dict_380_400_path, 'rb') as handle:\n",
    "    d_380_400 = pickle.load(handle)"
   ]
  },
  {
   "cell_type": "code",
   "execution_count": 31,
   "id": "2af9d532",
   "metadata": {},
   "outputs": [],
   "source": [
    "def convert(p):\n",
    "    if p in d_30:\n",
    "        return d_30[p]\n",
    "    else:\n",
    "        if p in d_60:\n",
    "            return d_60[p]\n",
    "        else:\n",
    "            if p in d_90_120:\n",
    "                return d_90_120[p]\n",
    "            else:\n",
    "                if p in d_120_160:\n",
    "                    return d_120_160[p]\n",
    "                else:\n",
    "                    if p in d_160_200:\n",
    "                        return d_160_200[p]\n",
    "                    else:\n",
    "                        if p in d_200_260:\n",
    "                            return d_200_260[p]\n",
    "                        else:\n",
    "                            if p in d_260_320:\n",
    "                                return d_260_320[p]\n",
    "                            else:\n",
    "                                if p in d_320_380:\n",
    "                                    return d_320_380[p]\n",
    "                                else:\n",
    "                                    if p in d_380_400:\n",
    "                                        return d_380_400[p]\n",
    "                                    else: return"
   ]
  },
  {
   "cell_type": "code",
   "execution_count": 32,
   "id": "77b5caaf",
   "metadata": {},
   "outputs": [],
   "source": [
    "df['purch'] = df['Реестровый номер закупки'].apply(lambda x: x[1:])\n",
    "df[\"winer\"] = df[\"purch\"].apply(lambda p: convert(p))\n",
    "df = df[df.winer != 0]\n",
    "inns = df.groupby(\"winer\").winer.count()[df.groupby(\"winer\").winer.count() > 15].index\n",
    "df_val = df[df[\"winer\"].isin(inns)]"
   ]
  },
  {
   "cell_type": "code",
   "execution_count": 33,
   "id": "986ac789",
   "metadata": {},
   "outputs": [],
   "source": [
    "df_val[\"Дата обновления\"] = pd.to_datetime(df_val[\"Дата обновления\"], format=\"%d.%m.%Y\")\n",
    "df_val[\"Год обновления\"] = df_val[\"Дата обновления\"].apply(lambda date: date.year)"
   ]
  },
  {
   "cell_type": "code",
   "execution_count": 34,
   "id": "b81ee73e",
   "metadata": {},
   "outputs": [],
   "source": [
    "stat = df_val.groupby([\"winer\", \"Год обновления\"]).winer.count()"
   ]
  },
  {
   "cell_type": "code",
   "execution_count": 35,
   "id": "82e75474",
   "metadata": {},
   "outputs": [],
   "source": [
    "valid_inns = []\n",
    "for inn in inns:\n",
    "    inn_stat = stat[inn]\n",
    "    if inn_stat.shape[0] != 3:\n",
    "        continue\n",
    "    f = True\n",
    "    for year in inn_stat.index[1:]:\n",
    "        if (inn_stat[year] / inn_stat[year - 1]) < 0.75:\n",
    "            f = False\n",
    "            break\n",
    "    if f: valid_inns.append(inn)"
   ]
  },
  {
   "cell_type": "code",
   "execution_count": 36,
   "id": "fcf6f170",
   "metadata": {},
   "outputs": [
    {
     "data": {
      "text/plain": [
       "541"
      ]
     },
     "execution_count": 36,
     "metadata": {},
     "output_type": "execute_result"
    }
   ],
   "source": [
    "len(valid_inns)"
   ]
  },
  {
   "cell_type": "code",
   "execution_count": 37,
   "id": "3e3761fc",
   "metadata": {},
   "outputs": [],
   "source": [
    "df_val = df_val[df_val.winer.isin(valid_inns)]"
   ]
  },
  {
   "cell_type": "code",
   "execution_count": 38,
   "id": "6c8d606b",
   "metadata": {},
   "outputs": [
    {
     "data": {
      "text/plain": [
       "(23768, 28)"
      ]
     },
     "execution_count": 38,
     "metadata": {},
     "output_type": "execute_result"
    }
   ],
   "source": [
    "df_val.shape"
   ]
  },
  {
   "cell_type": "code",
   "execution_count": 39,
   "id": "8f980171",
   "metadata": {},
   "outputs": [],
   "source": [
    "df_val.to_csv(os.path.join(DATA_PATH, \"valid.csv\"), encoding=\"utf-8\", sep=',')"
   ]
  },
  {
   "cell_type": "code",
   "execution_count": 40,
   "id": "589db4d8",
   "metadata": {
    "scrolled": true
   },
   "outputs": [
    {
     "data": {
      "text/html": [
       "<div>\n",
       "<style scoped>\n",
       "    .dataframe tbody tr th:only-of-type {\n",
       "        vertical-align: middle;\n",
       "    }\n",
       "\n",
       "    .dataframe tbody tr th {\n",
       "        vertical-align: top;\n",
       "    }\n",
       "\n",
       "    .dataframe thead th {\n",
       "        text-align: right;\n",
       "    }\n",
       "</style>\n",
       "<table border=\"1\" class=\"dataframe\">\n",
       "  <thead>\n",
       "    <tr style=\"text-align: right;\">\n",
       "      <th></th>\n",
       "      <th>count_2019</th>\n",
       "      <th>count_2020</th>\n",
       "      <th>count_2021</th>\n",
       "      <th>amount_2019</th>\n",
       "    </tr>\n",
       "    <tr>\n",
       "      <th>winer</th>\n",
       "      <th></th>\n",
       "      <th></th>\n",
       "      <th></th>\n",
       "      <th></th>\n",
       "    </tr>\n",
       "  </thead>\n",
       "  <tbody>\n",
       "    <tr>\n",
       "      <th>0224013045</th>\n",
       "      <td>46</td>\n",
       "      <td>54</td>\n",
       "      <td>46</td>\n",
       "      <td>8.320833e+07</td>\n",
       "    </tr>\n",
       "    <tr>\n",
       "      <th>0269998410</th>\n",
       "      <td>4</td>\n",
       "      <td>8</td>\n",
       "      <td>10</td>\n",
       "      <td>1.142172e+07</td>\n",
       "    </tr>\n",
       "    <tr>\n",
       "      <th>0273041550</th>\n",
       "      <td>11</td>\n",
       "      <td>15</td>\n",
       "      <td>17</td>\n",
       "      <td>3.052835e+06</td>\n",
       "    </tr>\n",
       "    <tr>\n",
       "      <th>0274110679</th>\n",
       "      <td>31</td>\n",
       "      <td>52</td>\n",
       "      <td>57</td>\n",
       "      <td>2.468903e+10</td>\n",
       "    </tr>\n",
       "    <tr>\n",
       "      <th>0275900969</th>\n",
       "      <td>7</td>\n",
       "      <td>8</td>\n",
       "      <td>12</td>\n",
       "      <td>7.056130e+07</td>\n",
       "    </tr>\n",
       "    <tr>\n",
       "      <th>...</th>\n",
       "      <td>...</td>\n",
       "      <td>...</td>\n",
       "      <td>...</td>\n",
       "      <td>...</td>\n",
       "    </tr>\n",
       "    <tr>\n",
       "      <th>9715229846</th>\n",
       "      <td>1</td>\n",
       "      <td>9</td>\n",
       "      <td>7</td>\n",
       "      <td>1.349851e+07</td>\n",
       "    </tr>\n",
       "    <tr>\n",
       "      <th>9715322330</th>\n",
       "      <td>6</td>\n",
       "      <td>10</td>\n",
       "      <td>14</td>\n",
       "      <td>2.247411e+07</td>\n",
       "    </tr>\n",
       "    <tr>\n",
       "      <th>9715338098</th>\n",
       "      <td>1</td>\n",
       "      <td>9</td>\n",
       "      <td>22</td>\n",
       "      <td>5.874991e+07</td>\n",
       "    </tr>\n",
       "    <tr>\n",
       "      <th>9725006486</th>\n",
       "      <td>4</td>\n",
       "      <td>6</td>\n",
       "      <td>6</td>\n",
       "      <td>2.204881e+07</td>\n",
       "    </tr>\n",
       "    <tr>\n",
       "      <th>9729284011</th>\n",
       "      <td>6</td>\n",
       "      <td>7</td>\n",
       "      <td>8</td>\n",
       "      <td>5.539612e+07</td>\n",
       "    </tr>\n",
       "  </tbody>\n",
       "</table>\n",
       "<p>541 rows × 4 columns</p>\n",
       "</div>"
      ],
      "text/plain": [
       "            count_2019  count_2020  count_2021   amount_2019\n",
       "winer                                                       \n",
       "0224013045          46          54          46  8.320833e+07\n",
       "0269998410           4           8          10  1.142172e+07\n",
       "0273041550          11          15          17  3.052835e+06\n",
       "0274110679          31          52          57  2.468903e+10\n",
       "0275900969           7           8          12  7.056130e+07\n",
       "...                ...         ...         ...           ...\n",
       "9715229846           1           9           7  1.349851e+07\n",
       "9715322330           6          10          14  2.247411e+07\n",
       "9715338098           1           9          22  5.874991e+07\n",
       "9725006486           4           6           6  2.204881e+07\n",
       "9729284011           6           7           8  5.539612e+07\n",
       "\n",
       "[541 rows x 4 columns]"
      ]
     },
     "execution_count": 40,
     "metadata": {},
     "output_type": "execute_result"
    }
   ],
   "source": [
    "count_2019 = lambda x: x[x == 2019].count()\n",
    "count_2019.__name__ = \"Кол-во (2019)\"\n",
    "count_2020 = lambda x: x[x == 2020].count()\n",
    "count_2020.__name__ = \"Кол-во (2020)\"\n",
    "count_2021 = lambda x: x[x == 2021].count()\n",
    "count_2021.__name__ = \"Кол-во (2021)\"\n",
    "\n",
    "# stat = df_val.groupby([\"winer\"]).agg({\n",
    "#     \"Год обновления\": lambda x: (x == 2019).sum(),\n",
    "#     \"Год обновления\": lambda x: (x == 2020).sum()})\n",
    "\n",
    "stat = df_val.groupby([\"winer\"]).agg(\n",
    "    count_2019=(\"Год обновления\", lambda x: (x == 2019).sum()),\n",
    "    count_2020=(\"Год обновления\", lambda x: (x == 2020).sum()),\n",
    "    count_2021=(\"Год обновления\", lambda x: (x == 2021).sum()),\n",
    "    amount_2019=(\"Начальная (максимальная) цена контракта\", lambda x: x.sum())\n",
    ")\n",
    "\n",
    "stat"
   ]
  },
  {
   "cell_type": "code",
   "execution_count": 41,
   "id": "be5a15ca",
   "metadata": {},
   "outputs": [
    {
     "data": {
      "text/html": [
       "<div>\n",
       "<style scoped>\n",
       "    .dataframe tbody tr th:only-of-type {\n",
       "        vertical-align: middle;\n",
       "    }\n",
       "\n",
       "    .dataframe tbody tr th {\n",
       "        vertical-align: top;\n",
       "    }\n",
       "\n",
       "    .dataframe thead th {\n",
       "        text-align: right;\n",
       "    }\n",
       "</style>\n",
       "<table border=\"1\" class=\"dataframe\">\n",
       "  <thead>\n",
       "    <tr style=\"text-align: right;\">\n",
       "      <th>Год обновления</th>\n",
       "      <th>2019 кол-во</th>\n",
       "      <th>2020 кол-во</th>\n",
       "      <th>2021 кол-во</th>\n",
       "    </tr>\n",
       "    <tr>\n",
       "      <th>winer</th>\n",
       "      <th></th>\n",
       "      <th></th>\n",
       "      <th></th>\n",
       "    </tr>\n",
       "  </thead>\n",
       "  <tbody>\n",
       "    <tr>\n",
       "      <th>0224013045</th>\n",
       "      <td>46</td>\n",
       "      <td>54</td>\n",
       "      <td>46</td>\n",
       "    </tr>\n",
       "    <tr>\n",
       "      <th>0269998410</th>\n",
       "      <td>4</td>\n",
       "      <td>8</td>\n",
       "      <td>10</td>\n",
       "    </tr>\n",
       "    <tr>\n",
       "      <th>0273041550</th>\n",
       "      <td>11</td>\n",
       "      <td>15</td>\n",
       "      <td>17</td>\n",
       "    </tr>\n",
       "    <tr>\n",
       "      <th>0274110679</th>\n",
       "      <td>31</td>\n",
       "      <td>52</td>\n",
       "      <td>57</td>\n",
       "    </tr>\n",
       "    <tr>\n",
       "      <th>0275900969</th>\n",
       "      <td>7</td>\n",
       "      <td>8</td>\n",
       "      <td>12</td>\n",
       "    </tr>\n",
       "    <tr>\n",
       "      <th>...</th>\n",
       "      <td>...</td>\n",
       "      <td>...</td>\n",
       "      <td>...</td>\n",
       "    </tr>\n",
       "    <tr>\n",
       "      <th>9715229846</th>\n",
       "      <td>1</td>\n",
       "      <td>9</td>\n",
       "      <td>7</td>\n",
       "    </tr>\n",
       "    <tr>\n",
       "      <th>9715322330</th>\n",
       "      <td>6</td>\n",
       "      <td>10</td>\n",
       "      <td>14</td>\n",
       "    </tr>\n",
       "    <tr>\n",
       "      <th>9715338098</th>\n",
       "      <td>1</td>\n",
       "      <td>9</td>\n",
       "      <td>22</td>\n",
       "    </tr>\n",
       "    <tr>\n",
       "      <th>9725006486</th>\n",
       "      <td>4</td>\n",
       "      <td>6</td>\n",
       "      <td>6</td>\n",
       "    </tr>\n",
       "    <tr>\n",
       "      <th>9729284011</th>\n",
       "      <td>6</td>\n",
       "      <td>7</td>\n",
       "      <td>8</td>\n",
       "    </tr>\n",
       "  </tbody>\n",
       "</table>\n",
       "<p>541 rows × 3 columns</p>\n",
       "</div>"
      ],
      "text/plain": [
       "Год обновления  2019 кол-во  2020 кол-во  2021 кол-во\n",
       "winer                                                \n",
       "0224013045               46           54           46\n",
       "0269998410                4            8           10\n",
       "0273041550               11           15           17\n",
       "0274110679               31           52           57\n",
       "0275900969                7            8           12\n",
       "...                     ...          ...          ...\n",
       "9715229846                1            9            7\n",
       "9715322330                6           10           14\n",
       "9715338098                1            9           22\n",
       "9725006486                4            6            6\n",
       "9729284011                6            7            8\n",
       "\n",
       "[541 rows x 3 columns]"
      ]
     },
     "execution_count": 41,
     "metadata": {},
     "output_type": "execute_result"
    }
   ],
   "source": [
    "count_df = df_val.pivot_table(\"Закупки по\", index=\"winer\", columns=[\"Год обновления\"], aggfunc='count')\n",
    "count_df.rename(columns={2019: \"2019 кол-во\", 2020: \"2020 кол-во\", 2021: \"2021 кол-во\"}, inplace = True)\n",
    "count_df"
   ]
  },
  {
   "cell_type": "code",
   "execution_count": 42,
   "id": "6177ca1e",
   "metadata": {},
   "outputs": [
    {
     "data": {
      "text/html": [
       "<div>\n",
       "<style scoped>\n",
       "    .dataframe tbody tr th:only-of-type {\n",
       "        vertical-align: middle;\n",
       "    }\n",
       "\n",
       "    .dataframe tbody tr th {\n",
       "        vertical-align: top;\n",
       "    }\n",
       "\n",
       "    .dataframe thead th {\n",
       "        text-align: right;\n",
       "    }\n",
       "</style>\n",
       "<table border=\"1\" class=\"dataframe\">\n",
       "  <thead>\n",
       "    <tr style=\"text-align: right;\">\n",
       "      <th>Год обновления</th>\n",
       "      <th>2019 сумма</th>\n",
       "      <th>2020 сумма</th>\n",
       "      <th>2021 сумма</th>\n",
       "    </tr>\n",
       "    <tr>\n",
       "      <th>winer</th>\n",
       "      <th></th>\n",
       "      <th></th>\n",
       "      <th></th>\n",
       "    </tr>\n",
       "  </thead>\n",
       "  <tbody>\n",
       "    <tr>\n",
       "      <th>0224013045</th>\n",
       "      <td>1.978899e+07</td>\n",
       "      <td>4.207305e+07</td>\n",
       "      <td>2.134629e+07</td>\n",
       "    </tr>\n",
       "    <tr>\n",
       "      <th>0269998410</th>\n",
       "      <td>7.493098e+05</td>\n",
       "      <td>3.165213e+06</td>\n",
       "      <td>7.507196e+06</td>\n",
       "    </tr>\n",
       "    <tr>\n",
       "      <th>0273041550</th>\n",
       "      <td>6.173826e+05</td>\n",
       "      <td>1.242729e+06</td>\n",
       "      <td>1.192723e+06</td>\n",
       "    </tr>\n",
       "    <tr>\n",
       "      <th>0274110679</th>\n",
       "      <td>1.663205e+09</td>\n",
       "      <td>2.146573e+10</td>\n",
       "      <td>1.560091e+09</td>\n",
       "    </tr>\n",
       "    <tr>\n",
       "      <th>0275900969</th>\n",
       "      <td>7.099961e+06</td>\n",
       "      <td>2.308415e+07</td>\n",
       "      <td>4.037719e+07</td>\n",
       "    </tr>\n",
       "    <tr>\n",
       "      <th>...</th>\n",
       "      <td>...</td>\n",
       "      <td>...</td>\n",
       "      <td>...</td>\n",
       "    </tr>\n",
       "    <tr>\n",
       "      <th>9715229846</th>\n",
       "      <td>1.751351e+06</td>\n",
       "      <td>5.176178e+06</td>\n",
       "      <td>6.570980e+06</td>\n",
       "    </tr>\n",
       "    <tr>\n",
       "      <th>9715322330</th>\n",
       "      <td>1.516988e+06</td>\n",
       "      <td>8.566969e+06</td>\n",
       "      <td>1.239015e+07</td>\n",
       "    </tr>\n",
       "    <tr>\n",
       "      <th>9715338098</th>\n",
       "      <td>2.313520e+06</td>\n",
       "      <td>2.561772e+07</td>\n",
       "      <td>3.081867e+07</td>\n",
       "    </tr>\n",
       "    <tr>\n",
       "      <th>9725006486</th>\n",
       "      <td>1.932473e+06</td>\n",
       "      <td>4.081942e+06</td>\n",
       "      <td>1.603439e+07</td>\n",
       "    </tr>\n",
       "    <tr>\n",
       "      <th>9729284011</th>\n",
       "      <td>6.766974e+06</td>\n",
       "      <td>2.578347e+07</td>\n",
       "      <td>2.284568e+07</td>\n",
       "    </tr>\n",
       "  </tbody>\n",
       "</table>\n",
       "<p>541 rows × 3 columns</p>\n",
       "</div>"
      ],
      "text/plain": [
       "Год обновления    2019 сумма    2020 сумма    2021 сумма\n",
       "winer                                                   \n",
       "0224013045      1.978899e+07  4.207305e+07  2.134629e+07\n",
       "0269998410      7.493098e+05  3.165213e+06  7.507196e+06\n",
       "0273041550      6.173826e+05  1.242729e+06  1.192723e+06\n",
       "0274110679      1.663205e+09  2.146573e+10  1.560091e+09\n",
       "0275900969      7.099961e+06  2.308415e+07  4.037719e+07\n",
       "...                      ...           ...           ...\n",
       "9715229846      1.751351e+06  5.176178e+06  6.570980e+06\n",
       "9715322330      1.516988e+06  8.566969e+06  1.239015e+07\n",
       "9715338098      2.313520e+06  2.561772e+07  3.081867e+07\n",
       "9725006486      1.932473e+06  4.081942e+06  1.603439e+07\n",
       "9729284011      6.766974e+06  2.578347e+07  2.284568e+07\n",
       "\n",
       "[541 rows x 3 columns]"
      ]
     },
     "execution_count": 42,
     "metadata": {},
     "output_type": "execute_result"
    }
   ],
   "source": [
    "sum_df = df_val.pivot_table(\"Начальная (максимальная) цена контракта\", index=\"winer\", columns=[\"Год обновления\"], aggfunc='sum')\n",
    "sum_df.rename(columns={2019: \"2019 сумма\", 2020: \"2020 сумма\", 2021: \"2021 сумма\"}, inplace = True)\n",
    "sum_df"
   ]
  },
  {
   "cell_type": "code",
   "execution_count": 43,
   "id": "f9978271",
   "metadata": {},
   "outputs": [],
   "source": [
    "pd.concat((count_df, sum_df), axis=1).to_csv(\"../data/info.csv\")"
   ]
  },
  {
   "cell_type": "code",
   "execution_count": null,
   "id": "8d30d51c",
   "metadata": {},
   "outputs": [],
   "source": []
  }
 ],
 "metadata": {
  "interpreter": {
   "hash": "4cd7ab41f5fca4b9b44701077e38c5ffd31fe66a6cab21e0214b68d958d0e462"
  },
  "kernelspec": {
   "display_name": "Python 3 (ipykernel)",
   "language": "python",
   "name": "python3"
  },
  "language_info": {
   "codemirror_mode": {
    "name": "ipython",
    "version": 3
   },
   "file_extension": ".py",
   "mimetype": "text/x-python",
   "name": "python",
   "nbconvert_exporter": "python",
   "pygments_lexer": "ipython3",
   "version": "3.8.10"
  }
 },
 "nbformat": 4,
 "nbformat_minor": 5
}
