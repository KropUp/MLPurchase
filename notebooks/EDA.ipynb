{
 "cells": [
  {
   "cell_type": "code",
   "execution_count": 45,
   "source": [
    "import os\n",
    "import pickle\n",
    "import pandas as pd\n",
    "from tqdm import tqdm\n",
    "\n",
    "import warnings\n",
    "warnings.filterwarnings('ignore')"
   ],
   "outputs": [],
   "metadata": {}
  },
  {
   "cell_type": "code",
   "execution_count": 46,
   "source": [
    "DATA_PATH = \"../data\"\n",
    "DATA_FILENAME = \"out_file_by_inn_223_44_last.csv\"\n",
    "data_file = os.path.join(DATA_PATH, DATA_FILENAME)\n",
    "dict_0_30000_path = os.path.join(DATA_PATH, \"0_30000.pickle\")"
   ],
   "outputs": [],
   "metadata": {}
  },
  {
   "cell_type": "code",
   "execution_count": 39,
   "source": [
    "iter_csv = pd.read_csv(data_file, encoding=\"utf-16\", sep='\\t', iterator=True, chunksize=1000000)\n",
    "df = pd.concat([chunk[(chunk['Закупки по'] == '44-ФЗ') \n",
    "                & (chunk['Этап закупки']=='Определение поставщика завершено')\n",
    "                & (chunk[\"Дата обновления\"].str.split('.', expand=True).iloc[:, 2].astype(\"int\").isin([2019, 2020, 2021]))] \n",
    "                for chunk in tqdm(iter_csv)])"
   ],
   "outputs": [
    {
     "output_type": "stream",
     "name": "stderr",
     "text": [
      "11it [04:29, 24.48s/it]\n"
     ]
    }
   ],
   "metadata": {}
  },
  {
   "cell_type": "code",
   "execution_count": 47,
   "source": [
    "with open(dict_0_30000_path, 'rb') as handle:\n",
    "    d = pickle.load(handle)\n"
   ],
   "outputs": [],
   "metadata": {}
  },
  {
   "cell_type": "code",
   "execution_count": 130,
   "source": [
    "df['purch'] = df['Реестровый номер закупки'].apply(lambda x: x[1:])\n",
    "df[\"winer\"] = df[\"purch\"].apply(lambda p: d[p] if p in d else 0)\n",
    "df = df[df.winer != 0]\n",
    "inns = df.groupby(\"winer\").winer.count()[df.groupby(\"winer\").winer.count() > 15].index\n",
    "df_val = df[df[\"winer\"].isin(inns)]\n"
   ],
   "outputs": [],
   "metadata": {}
  },
  {
   "cell_type": "code",
   "execution_count": 131,
   "source": [
    "df_val[\"Дата обновления\"] = pd.to_datetime(df_val[\"Дата обновления\"], format=\"%d.%m.%Y\")\n",
    "df_val[\"Год обновления\"] = df_val[\"Дата обновления\"].apply(lambda date: date.year)"
   ],
   "outputs": [],
   "metadata": {}
  },
  {
   "cell_type": "code",
   "execution_count": 165,
   "source": [
    "df_val.to_csv(os.path.join(DATA_PATH, \"valid.csv\"), encoding=\"utf-8\", sep=',')"
   ],
   "outputs": [],
   "metadata": {}
  },
  {
   "cell_type": "code",
   "execution_count": 132,
   "source": [
    "stat = df_val.groupby([\"winer\", \"Год обновления\"])[\"Закупки по\"].count()\n",
    "stat"
   ],
   "outputs": [
    {
     "output_type": "execute_result",
     "data": {
      "text/plain": [
       "winer       Год обновления\n",
       "0276065541  2019              13\n",
       "            2020              11\n",
       "            2021               9\n",
       "0326040626  2020               8\n",
       "            2021              17\n",
       "                              ..\n",
       "9721089700  2021              18\n",
       "9731032950  2020              21\n",
       "            2021              25\n",
       "9731038990  2020              16\n",
       "            2021              30\n",
       "Name: Закупки по, Length: 169, dtype: int64"
      ]
     },
     "metadata": {},
     "execution_count": 132
    }
   ],
   "metadata": {}
  },
  {
   "cell_type": "code",
   "execution_count": 142,
   "source": [
    "valid_inns = []\n",
    "for inn in inns:\n",
    "    inn_stat = stat[inn]\n",
    "    if inn_stat.shape[0] == 1:\n",
    "        valid_inns.append(inn)\n",
    "        continue\n",
    "    f = True\n",
    "    for year in inn_stat.index[1:]:\n",
    "        try:\n",
    "            if (inn_stat[year] / inn_stat[year - 1]) < 0.75:\n",
    "                f = False\n",
    "                break\n",
    "        except KeyError:\n",
    "            f = False\n",
    "    if f: valid_inns.append(inn)\n"
   ],
   "outputs": [],
   "metadata": {}
  },
  {
   "cell_type": "code",
   "execution_count": 143,
   "source": [
    "len(valid_inns)"
   ],
   "outputs": [
    {
     "output_type": "execute_result",
     "data": {
      "text/plain": [
       "42"
      ]
     },
     "metadata": {},
     "execution_count": 143
    }
   ],
   "metadata": {}
  },
  {
   "cell_type": "code",
   "execution_count": 144,
   "source": [
    "valid_inns"
   ],
   "outputs": [
    {
     "output_type": "execute_result",
     "data": {
      "text/plain": [
       "['0276065541',\n",
       " '0326040626',\n",
       " '2312178145',\n",
       " '2540203506',\n",
       " '2636209450',\n",
       " '3123470210',\n",
       " '3444197347',\n",
       " '3459070488',\n",
       " '4719016624',\n",
       " '5007103318',\n",
       " '5036171778',\n",
       " '5903027281',\n",
       " '5903134283',\n",
       " '6166084084',\n",
       " '6230114532',\n",
       " '7701213835',\n",
       " '7705970498',\n",
       " '7708823950',\n",
       " '7711027436',\n",
       " '7713056834',\n",
       " '7714511476',\n",
       " '7715656026',\n",
       " '7716874274',\n",
       " '7718538045',\n",
       " '7718861376',\n",
       " '7719481754',\n",
       " '7724419198',\n",
       " '7724490000',\n",
       " '7724922443',\n",
       " '7726311464',\n",
       " '7726416643',\n",
       " '7731345620',\n",
       " '7733271117',\n",
       " '7734420273',\n",
       " '7743529527',\n",
       " '8604037576',\n",
       " '9701158070',\n",
       " '9715366867',\n",
       " '9718148546',\n",
       " '9721089700',\n",
       " '9731032950',\n",
       " '9731038990']"
      ]
     },
     "metadata": {},
     "execution_count": 144
    }
   ],
   "metadata": {}
  },
  {
   "cell_type": "code",
   "execution_count": null,
   "source": [],
   "outputs": [],
   "metadata": {}
  }
 ],
 "metadata": {
  "kernelspec": {
   "name": "python3",
   "display_name": "Python 3.9.6 64-bit"
  },
  "language_info": {
   "codemirror_mode": {
    "name": "ipython",
    "version": 3
   },
   "file_extension": ".py",
   "mimetype": "text/x-python",
   "name": "python",
   "nbconvert_exporter": "python",
   "pygments_lexer": "ipython3",
   "version": "3.9.6"
  },
  "interpreter": {
   "hash": "4cd7ab41f5fca4b9b44701077e38c5ffd31fe66a6cab21e0214b68d958d0e462"
  }
 },
 "nbformat": 4,
 "nbformat_minor": 5
}