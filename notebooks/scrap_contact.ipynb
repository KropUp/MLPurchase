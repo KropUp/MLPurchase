{
 "cells": [
  {
   "cell_type": "code",
   "execution_count": 1,
   "id": "785af74f-d50b-4826-8b87-1f5230292a24",
   "metadata": {},
   "outputs": [],
   "source": [
    "import os\n",
    "import pandas as pd\n",
    "import logging\n",
    "import io\n",
    "import requests\n",
    "import threading\n",
    "import queue\n",
    "from tqdm import tqdm\n",
    "import time\n",
    "from bs4 import BeautifulSoup\n",
    "from lxml import html"
   ]
  },
  {
   "cell_type": "code",
   "execution_count": 4,
   "id": "1211b8b4-8663-425d-b84c-5c5c07ca93f0",
   "metadata": {},
   "outputs": [],
   "source": [
    "headers = {'sec-ch-ua': '\" Not;A Brand\";v=\"99\", \"Google Chrome\";v=\"91\", \"Chromium\";v=\"91\"',\n",
    "           'sec-ch-ua-mobile':'0',\n",
    "           'Upgrade-Insecure-Requests': '1',\n",
    "           'User-Agent': 'Mozilla/5.0 (Windows NT 10.0; Win64; x64) AppleWebKit/537.36 (KHTML, like Gecko) Chrome/91.0.4472.124 Safari/537.36'\n",
    "                    }\n",
    "\n",
    "def get_inn_vie_purch(purch,q):   \n",
    "    url=\"https://zakupki.gov.ru/epz/order/notice/ea44/view/supplier-results.html?regNumber=\"+purch \n",
    "    r = requests.get(url, headers = headers)\n",
    "    text = r.content.decode('utf-8')\n",
    "    soup = BeautifulSoup(text)\n",
    "    winer_list = soup.find_all('table',{'class': 'blockInfo__table tableBlock'})\n",
    "    if len(winer_list) > 3:\n",
    "        soup = BeautifulSoup(str(winer_list[3]))\n",
    "    elif len(winer_list) == 3:\n",
    "        soup = BeautifulSoup(str(winer_list[2]))\n",
    "    else:\n",
    "        q.put(0)\n",
    "        return\n",
    "    contract_link = soup.find('a')\n",
    "    try:\n",
    "        contract_url = contract_link.get('href')\n",
    "    except Exception:\n",
    "        q.put(0)\n",
    "        return\n",
    "    contract_url = 'https://zakupki.gov.ru' + contract_url\n",
    "    try:\n",
    "        contract_page = requests.get(contract_url, headers = headers)\n",
    "        print(contract_url)\n",
    "    except Exception:\n",
    "        q.put(0)\n",
    "        return\n",
    "    contract_page_text = contract_page.content.decode('utf-8')\n",
    "    soup = BeautifulSoup(contract_page_text)\n",
    "    spans = soup.find_all('span')\n",
    "    ind_cur = -1\n",
    "    for span in spans:\n",
    "        if span.text == 'ИНН:': \n",
    "            ind_cur = spans.index(span)+1\n",
    "            break\n",
    "    if ind_cur == -1:\n",
    "        q.put(0)\n",
    "        return \n",
    "    else:\n",
    "        q.put(spans[ind_cur].text)\n",
    "        return \n",
    "tqdm.pandas()"
   ]
  },
  {
   "cell_type": "code",
   "execution_count": 3,
   "id": "88677099-feec-40a4-b91f-d40145c6ed9d",
   "metadata": {},
   "outputs": [],
   "source": [
    "def start_download(purch):\n",
    "    out = purch\n",
    "    q = queue.Queue()\n",
    "    scraping = threading.Thread(target=get_inn_vie_purch, args=(out,q,))\n",
    "    scraping.start()\n",
    "    scraping.join()\n",
    "    while threading.active_count()>15:\n",
    "        time.sleep(0.01)\n",
    "    return q.get()"
   ]
  },
  {
   "cell_type": "code",
   "execution_count": 6,
   "id": "57ce4484-0a02-418d-89a6-249ffa47ceb3",
   "metadata": {},
   "outputs": [],
   "source": [
    "inn_list = ['7726311464',\n",
    "'7724922443',\n",
    "'4003032047',\n",
    "'7707049388',\n",
    "'7726416643',\n",
    "'7718538045',\n",
    "'7719555477',\n",
    "'1101107584',\n",
    "'0276065541',\n",
    "'7716644263',\n",
    "'7711027436',\n",
    "'7736035485',\n",
    "'6166083490',\n",
    "'7810687137',\n",
    "'2724070180',\n",
    "'2723071046',\n",
    "'7743529527',\n",
    "'7707083893',\n",
    "'5027262517',\n",
    "'5012074091',\n",
    "'2801244676',\n",
    "'2540203506',\n",
    "'7715656026',\n",
    "'4719016624',\n",
    "'6166084084',\n",
    "'1901120601',\n",
    "'3444197347',\n",
    "'2801056707',\n",
    "'7701213835',\n",
    "'6319037334',\n",
    "'5017112368',\n",
    "'7733271117',\n",
    "'7724419198',\n",
    "'7718599175',\n",
    "'7713056834',\n",
    "'7733507267',\n",
    "'7714511476',\n",
    "'3459070488',\n",
    "'5007103318',\n",
    "'2312178145']"
   ]
  },
  {
   "cell_type": "code",
   "execution_count": 9,
   "id": "9411a2ed-924b-4fbd-a82f-240874d9dbd0",
   "metadata": {},
   "outputs": [],
   "source": [
    "df = pd.read_csv('valid.csv')"
   ]
  },
  {
   "cell_type": "code",
   "execution_count": 22,
   "id": "91c6f2a7-0242-4747-8065-e6d5e27e773c",
   "metadata": {},
   "outputs": [
    {
     "ename": "IndexError",
     "evalue": "single positional indexer is out-of-bounds",
     "output_type": "error",
     "traceback": [
      "\u001b[1;31m---------------------------------------------------------------------------\u001b[0m",
      "\u001b[1;31mIndexError\u001b[0m                                Traceback (most recent call last)",
      "\u001b[1;32m<ipython-input-22-0dd5f77612d0>\u001b[0m in \u001b[0;36m<module>\u001b[1;34m\u001b[0m\n\u001b[1;32m----> 1\u001b[1;33m \u001b[0mdf\u001b[0m\u001b[1;33m[\u001b[0m\u001b[0mdf\u001b[0m\u001b[1;33m[\u001b[0m\u001b[1;34m'winer'\u001b[0m\u001b[1;33m]\u001b[0m \u001b[1;33m==\u001b[0m \u001b[0minn_list\u001b[0m\u001b[1;33m[\u001b[0m\u001b[1;36m0\u001b[0m\u001b[1;33m]\u001b[0m\u001b[1;33m]\u001b[0m\u001b[1;33m.\u001b[0m\u001b[0miloc\u001b[0m\u001b[1;33m[\u001b[0m\u001b[1;36m0\u001b[0m\u001b[1;33m]\u001b[0m\u001b[1;33m\u001b[0m\u001b[1;33m\u001b[0m\u001b[0m\n\u001b[0m",
      "\u001b[1;32mC:\\ProgramData\\Anaconda3\\lib\\site-packages\\pandas\\core\\indexing.py\u001b[0m in \u001b[0;36m__getitem__\u001b[1;34m(self, key)\u001b[0m\n\u001b[0;32m    893\u001b[0m \u001b[1;33m\u001b[0m\u001b[0m\n\u001b[0;32m    894\u001b[0m             \u001b[0mmaybe_callable\u001b[0m \u001b[1;33m=\u001b[0m \u001b[0mcom\u001b[0m\u001b[1;33m.\u001b[0m\u001b[0mapply_if_callable\u001b[0m\u001b[1;33m(\u001b[0m\u001b[0mkey\u001b[0m\u001b[1;33m,\u001b[0m \u001b[0mself\u001b[0m\u001b[1;33m.\u001b[0m\u001b[0mobj\u001b[0m\u001b[1;33m)\u001b[0m\u001b[1;33m\u001b[0m\u001b[1;33m\u001b[0m\u001b[0m\n\u001b[1;32m--> 895\u001b[1;33m             \u001b[1;32mreturn\u001b[0m \u001b[0mself\u001b[0m\u001b[1;33m.\u001b[0m\u001b[0m_getitem_axis\u001b[0m\u001b[1;33m(\u001b[0m\u001b[0mmaybe_callable\u001b[0m\u001b[1;33m,\u001b[0m \u001b[0maxis\u001b[0m\u001b[1;33m=\u001b[0m\u001b[0maxis\u001b[0m\u001b[1;33m)\u001b[0m\u001b[1;33m\u001b[0m\u001b[1;33m\u001b[0m\u001b[0m\n\u001b[0m\u001b[0;32m    896\u001b[0m \u001b[1;33m\u001b[0m\u001b[0m\n\u001b[0;32m    897\u001b[0m     \u001b[1;32mdef\u001b[0m \u001b[0m_is_scalar_access\u001b[0m\u001b[1;33m(\u001b[0m\u001b[0mself\u001b[0m\u001b[1;33m,\u001b[0m \u001b[0mkey\u001b[0m\u001b[1;33m:\u001b[0m \u001b[0mTuple\u001b[0m\u001b[1;33m)\u001b[0m\u001b[1;33m:\u001b[0m\u001b[1;33m\u001b[0m\u001b[1;33m\u001b[0m\u001b[0m\n",
      "\u001b[1;32mC:\\ProgramData\\Anaconda3\\lib\\site-packages\\pandas\\core\\indexing.py\u001b[0m in \u001b[0;36m_getitem_axis\u001b[1;34m(self, key, axis)\u001b[0m\n\u001b[0;32m   1499\u001b[0m \u001b[1;33m\u001b[0m\u001b[0m\n\u001b[0;32m   1500\u001b[0m             \u001b[1;31m# validate the location\u001b[0m\u001b[1;33m\u001b[0m\u001b[1;33m\u001b[0m\u001b[1;33m\u001b[0m\u001b[0m\n\u001b[1;32m-> 1501\u001b[1;33m             \u001b[0mself\u001b[0m\u001b[1;33m.\u001b[0m\u001b[0m_validate_integer\u001b[0m\u001b[1;33m(\u001b[0m\u001b[0mkey\u001b[0m\u001b[1;33m,\u001b[0m \u001b[0maxis\u001b[0m\u001b[1;33m)\u001b[0m\u001b[1;33m\u001b[0m\u001b[1;33m\u001b[0m\u001b[0m\n\u001b[0m\u001b[0;32m   1502\u001b[0m \u001b[1;33m\u001b[0m\u001b[0m\n\u001b[0;32m   1503\u001b[0m             \u001b[1;32mreturn\u001b[0m \u001b[0mself\u001b[0m\u001b[1;33m.\u001b[0m\u001b[0mobj\u001b[0m\u001b[1;33m.\u001b[0m\u001b[0m_ixs\u001b[0m\u001b[1;33m(\u001b[0m\u001b[0mkey\u001b[0m\u001b[1;33m,\u001b[0m \u001b[0maxis\u001b[0m\u001b[1;33m=\u001b[0m\u001b[0maxis\u001b[0m\u001b[1;33m)\u001b[0m\u001b[1;33m\u001b[0m\u001b[1;33m\u001b[0m\u001b[0m\n",
      "\u001b[1;32mC:\\ProgramData\\Anaconda3\\lib\\site-packages\\pandas\\core\\indexing.py\u001b[0m in \u001b[0;36m_validate_integer\u001b[1;34m(self, key, axis)\u001b[0m\n\u001b[0;32m   1442\u001b[0m         \u001b[0mlen_axis\u001b[0m \u001b[1;33m=\u001b[0m \u001b[0mlen\u001b[0m\u001b[1;33m(\u001b[0m\u001b[0mself\u001b[0m\u001b[1;33m.\u001b[0m\u001b[0mobj\u001b[0m\u001b[1;33m.\u001b[0m\u001b[0m_get_axis\u001b[0m\u001b[1;33m(\u001b[0m\u001b[0maxis\u001b[0m\u001b[1;33m)\u001b[0m\u001b[1;33m)\u001b[0m\u001b[1;33m\u001b[0m\u001b[1;33m\u001b[0m\u001b[0m\n\u001b[0;32m   1443\u001b[0m         \u001b[1;32mif\u001b[0m \u001b[0mkey\u001b[0m \u001b[1;33m>=\u001b[0m \u001b[0mlen_axis\u001b[0m \u001b[1;32mor\u001b[0m \u001b[0mkey\u001b[0m \u001b[1;33m<\u001b[0m \u001b[1;33m-\u001b[0m\u001b[0mlen_axis\u001b[0m\u001b[1;33m:\u001b[0m\u001b[1;33m\u001b[0m\u001b[1;33m\u001b[0m\u001b[0m\n\u001b[1;32m-> 1444\u001b[1;33m             \u001b[1;32mraise\u001b[0m \u001b[0mIndexError\u001b[0m\u001b[1;33m(\u001b[0m\u001b[1;34m\"single positional indexer is out-of-bounds\"\u001b[0m\u001b[1;33m)\u001b[0m\u001b[1;33m\u001b[0m\u001b[1;33m\u001b[0m\u001b[0m\n\u001b[0m\u001b[0;32m   1445\u001b[0m \u001b[1;33m\u001b[0m\u001b[0m\n\u001b[0;32m   1446\u001b[0m     \u001b[1;31m# -------------------------------------------------------------------\u001b[0m\u001b[1;33m\u001b[0m\u001b[1;33m\u001b[0m\u001b[1;33m\u001b[0m\u001b[0m\n",
      "\u001b[1;31mIndexError\u001b[0m: single positional indexer is out-of-bounds"
     ]
    }
   ],
   "source": [
    "df[df['winer'] == inn_list[0]].iloc[0]"
   ]
  },
  {
   "cell_type": "code",
   "execution_count": 24,
   "id": "e13beb84-b1c2-4ddc-a119-68c6974fe967",
   "metadata": {},
   "outputs": [
    {
     "data": {
      "text/plain": [
       "(2227, 29)"
      ]
     },
     "execution_count": 24,
     "metadata": {},
     "output_type": "execute_result"
    }
   ],
   "source": [
    "df.shape"
   ]
  },
  {
   "cell_type": "code",
   "execution_count": null,
   "id": "0210838a-7c56-4151-83eb-358be92c0507",
   "metadata": {},
   "outputs": [],
   "source": []
  }
 ],
 "metadata": {
  "kernelspec": {
   "display_name": "Python 3",
   "language": "python",
   "name": "python3"
  },
  "language_info": {
   "codemirror_mode": {
    "name": "ipython",
    "version": 3
   },
   "file_extension": ".py",
   "mimetype": "text/x-python",
   "name": "python",
   "nbconvert_exporter": "python",
   "pygments_lexer": "ipython3",
   "version": "3.8.8"
  }
 },
 "nbformat": 4,
 "nbformat_minor": 5
}
