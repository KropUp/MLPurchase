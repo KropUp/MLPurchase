{
 "cells": [
  {
   "cell_type": "code",
   "execution_count": 1,
   "id": "a00dd5d8",
   "metadata": {},
   "outputs": [],
   "source": [
    "import pandas as pd\n",
    "import os\n",
    "DATA_PATH = \"../data\""
   ]
  },
  {
   "cell_type": "code",
   "execution_count": 2,
   "id": "1e4a3068",
   "metadata": {},
   "outputs": [],
   "source": [
    "df = pd.read_excel(os.path.join(DATA_PATH, \"Реестр КИК_заказчик.xlsx\"), dtype={\"ИНН\": \"str\"})[[\"Наименование Клиента\", \"ИНН\"]]\n",
    "df = df.drop_duplicates()\n",
    "purch_df = pd.read_excel(os.path.join(DATA_PATH, \"out_file_by_inn_(Реестр КИК).xlsx\"), dtype={\"ИНН\": \"str\"})\n",
    "purch_df[\"Реестровый номер закупки\"] = purch_df[\"Реестровый номер закупки\"].apply(lambda s: s[1:])\n",
    "purch_to_inn = pd.read_csv(os.path.join(DATA_PATH, \"async_info.csv\"), dtype={\"purch\": \"str\", \"inn\": \"str\"})[[\"purch\", \"inn\"]]\\\n",
    "    .set_index(\"purch\").to_dict()[\"inn\"]"
   ]
  },
  {
   "cell_type": "code",
   "execution_count": 3,
   "id": "79e236ab",
   "metadata": {},
   "outputs": [],
   "source": [
    "purch_df[\"ИНН победителя\"] = purch_df[\"Реестровый номер закупки\"].apply(lambda x: purch_to_inn[x] if x in purch_to_inn else None)"
   ]
  },
  {
   "cell_type": "code",
   "execution_count": 4,
   "id": "1b2b61e8",
   "metadata": {},
   "outputs": [],
   "source": [
    "purch_df = purch_df[purch_df[\"ИНН\"] == purch_df[\"ИНН победителя\"]]"
   ]
  },
  {
   "cell_type": "code",
   "execution_count": 27,
   "id": "5c8be5da",
   "metadata": {},
   "outputs": [],
   "source": [
    "merged_df = df.merge(purch_df, on=\"ИНН\")"
   ]
  },
  {
   "cell_type": "code",
   "execution_count": 30,
   "id": "2a5c3408",
   "metadata": {},
   "outputs": [],
   "source": [
    "merged_df.to_excel(\"file.xlsx\")"
   ]
  },
  {
   "cell_type": "code",
   "execution_count": null,
   "id": "69fefef2",
   "metadata": {},
   "outputs": [],
   "source": []
  }
 ],
 "metadata": {
  "kernelspec": {
   "display_name": "Python 3 (ipykernel)",
   "language": "python",
   "name": "python3"
  },
  "language_info": {
   "codemirror_mode": {
    "name": "ipython",
    "version": 3
   },
   "file_extension": ".py",
   "mimetype": "text/x-python",
   "name": "python",
   "nbconvert_exporter": "python",
   "pygments_lexer": "ipython3",
   "version": "3.9.6"
  }
 },
 "nbformat": 4,
 "nbformat_minor": 5
}
