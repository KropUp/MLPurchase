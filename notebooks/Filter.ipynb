{
 "cells": [
  {
   "cell_type": "code",
   "execution_count": 2,
   "id": "3242d059",
   "metadata": {},
   "outputs": [],
   "source": [
    "import os\n",
    "import pickle\n",
    "import pandas as pd\n",
    "from tqdm import tqdm\n",
    "\n",
    "import warnings\n",
    "warnings.filterwarnings('ignore')\n",
    "\n",
    "DATA_PATH = \"../data\"\n",
    "DATA_FILENAME = \"data.csv\"\n",
    "data_file = os.path.join(DATA_PATH, DATA_FILENAME)"
   ]
  },
  {
   "cell_type": "code",
   "execution_count": 3,
   "id": "cf75a9bd",
   "metadata": {},
   "outputs": [
    {
     "name": "stderr",
     "output_type": "stream",
     "text": [
      "11it [04:23, 24.00s/it]\n"
     ]
    }
   ],
   "source": [
    "iter_csv = pd.read_csv(data_file, encoding=\"utf-16\", sep='\\t', iterator=True, chunksize=1000000)\n",
    "df = pd.concat([chunk[(chunk['Закупки по'] == '44-ФЗ') \n",
    "                & (chunk['Этап закупки']=='Определение поставщика завершено')\n",
    "                & (chunk[\"Дата обновления\"].str.split('.', expand=True).iloc[:, 2].astype(\"int\").isin([2019, 2020, 2021]))] \n",
    "                for chunk in tqdm(iter_csv)])"
   ]
  },
  {
   "cell_type": "code",
   "execution_count": 4,
   "id": "ab343c15",
   "metadata": {},
   "outputs": [],
   "source": [
    "df['purch'] = df['Реестровый номер закупки'].apply(lambda x: x[1:])\n",
    "df[\"Дата обновления\"] = pd.to_datetime(df[\"Дата обновления\"], format=\"%d.%m.%Y\")\n",
    "df[\"Год обновления\"] = df[\"Дата обновления\"].apply(lambda date: date.year)"
   ]
  },
  {
   "cell_type": "code",
   "execution_count": 5,
   "id": "df859bfd",
   "metadata": {},
   "outputs": [],
   "source": [
    "purch_to_year = df[[\"purch\", \"Год обновления\"]].reset_index(drop=True).set_index(\"purch\").to_dict()\n",
    "purch_to_sum = df[[\"purch\", \"Начальная (максимальная) цена контракта\"]].reset_index(drop=True).set_index(\"purch\").to_dict()"
   ]
  },
  {
   "cell_type": "code",
   "execution_count": 6,
   "id": "bdbd7c81",
   "metadata": {},
   "outputs": [],
   "source": [
    "df1 = pd.read_csv(os.path.join(DATA_PATH, \"async_info_1.csv\"), dtype={\"purch\": str, \"inn\": str})\n",
    "df2 = pd.read_csv(os.path.join(DATA_PATH, \"async_info_2.csv\"), dtype={\"purch\": str, \"inn\": str})\n",
    "df3 = pd.read_csv(os.path.join(DATA_PATH, \"async_info_3.csv\"), dtype={\"purch\": str, \"inn\": str})\n",
    "df4 = pd.read_csv(os.path.join(DATA_PATH, \"async_info_4.csv\"), dtype={\"purch\": str, \"inn\": str})\n",
    "df5 = pd.read_csv(os.path.join(DATA_PATH, \"async_info_5.csv\"), dtype={\"purch\": str, \"inn\": str})\n",
    "df6 = pd.read_csv(os.path.join(DATA_PATH, \"async_info_6.csv\"), dtype={\"purch\": str, \"inn\": str})\n",
    "df7 = pd.read_csv(os.path.join(DATA_PATH, \"async_info_6.csv\"), dtype={\"purch\": str, \"inn\": str})\n",
    "df8 = pd.read_csv(os.path.join(DATA_PATH, \"async_info_5.csv\"), dtype={\"purch\": str, \"inn\": str})\n",
    "df9 = pd.read_csv(os.path.join(DATA_PATH, \"async_info_4.csv\"), dtype={\"purch\": str, \"inn\": str})\n",
    "df10 = pd.read_csv(os.path.join(DATA_PATH, \"async_info_3.csv\"), dtype={\"purch\": str, \"inn\": str})\n",
    "df11 = pd.read_csv(os.path.join(DATA_PATH, \"async_info_2.csv\"), dtype={\"purch\": str, \"inn\": str})\n",
    "df12 = pd.read_csv(os.path.join(DATA_PATH, \"async_info_1.csv\"), dtype={\"purch\": str, \"inn\": str})"
   ]
  },
  {
   "cell_type": "code",
   "execution_count": 7,
   "id": "bc741e22",
   "metadata": {},
   "outputs": [],
   "source": [
    "info_df = pd.concat((df1, df2, df3, df4, df5, df6, df7, df8, df9, df10, df11, df12))"
   ]
  },
  {
   "cell_type": "code",
   "execution_count": 8,
   "id": "c42c5564",
   "metadata": {},
   "outputs": [],
   "source": [
    "info_df[\"year\"] = info_df[\"purch\"].apply(lambda p: purch_to_year[\"Год обновления\"][p])\n",
    "info_df[\"amount\"] = info_df[\"purch\"].apply(lambda p: purch_to_sum[\"Начальная (максимальная) цена контракта\"][p])"
   ]
  },
  {
   "cell_type": "code",
   "execution_count": 9,
   "id": "b424f7c9",
   "metadata": {},
   "outputs": [],
   "source": [
    "info_df = info_df[(info_df.inn.notna()) | (info_df.name.notna()) | (info_df.phone.notna())]"
   ]
  },
  {
   "cell_type": "code",
   "execution_count": 10,
   "id": "9c64691c",
   "metadata": {},
   "outputs": [
    {
     "data": {
      "text/plain": [
       "(927660, 8)"
      ]
     },
     "execution_count": 10,
     "metadata": {},
     "output_type": "execute_result"
    }
   ],
   "source": [
    "info_df.shape"
   ]
  },
  {
   "cell_type": "code",
   "execution_count": 11,
   "id": "60d25a0d",
   "metadata": {},
   "outputs": [
    {
     "data": {
      "text/html": [
       "<div>\n",
       "<style scoped>\n",
       "    .dataframe tbody tr th:only-of-type {\n",
       "        vertical-align: middle;\n",
       "    }\n",
       "\n",
       "    .dataframe tbody tr th {\n",
       "        vertical-align: top;\n",
       "    }\n",
       "\n",
       "    .dataframe thead th {\n",
       "        text-align: right;\n",
       "    }\n",
       "</style>\n",
       "<table border=\"1\" class=\"dataframe\">\n",
       "  <thead>\n",
       "    <tr style=\"text-align: right;\">\n",
       "      <th>year</th>\n",
       "      <th>2019</th>\n",
       "      <th>2020</th>\n",
       "      <th>2021</th>\n",
       "    </tr>\n",
       "    <tr>\n",
       "      <th>inn</th>\n",
       "      <th></th>\n",
       "      <th></th>\n",
       "      <th></th>\n",
       "    </tr>\n",
       "  </thead>\n",
       "  <tbody>\n",
       "    <tr>\n",
       "      <th>0000000000</th>\n",
       "      <td>2.0</td>\n",
       "      <td>0.0</td>\n",
       "      <td>0.0</td>\n",
       "    </tr>\n",
       "    <tr>\n",
       "      <th>000000000000</th>\n",
       "      <td>10.0</td>\n",
       "      <td>0.0</td>\n",
       "      <td>0.0</td>\n",
       "    </tr>\n",
       "    <tr>\n",
       "      <th>010100400827</th>\n",
       "      <td>0.0</td>\n",
       "      <td>2.0</td>\n",
       "      <td>0.0</td>\n",
       "    </tr>\n",
       "    <tr>\n",
       "      <th>0101009232</th>\n",
       "      <td>2.0</td>\n",
       "      <td>0.0</td>\n",
       "      <td>2.0</td>\n",
       "    </tr>\n",
       "    <tr>\n",
       "      <th>0101009602</th>\n",
       "      <td>2.0</td>\n",
       "      <td>0.0</td>\n",
       "      <td>0.0</td>\n",
       "    </tr>\n",
       "    <tr>\n",
       "      <th>...</th>\n",
       "      <td>...</td>\n",
       "      <td>...</td>\n",
       "      <td>...</td>\n",
       "    </tr>\n",
       "    <tr>\n",
       "      <th>9909054754</th>\n",
       "      <td>0.0</td>\n",
       "      <td>0.0</td>\n",
       "      <td>2.0</td>\n",
       "    </tr>\n",
       "    <tr>\n",
       "      <th>9909156883</th>\n",
       "      <td>0.0</td>\n",
       "      <td>0.0</td>\n",
       "      <td>2.0</td>\n",
       "    </tr>\n",
       "    <tr>\n",
       "      <th>9909201656</th>\n",
       "      <td>2.0</td>\n",
       "      <td>0.0</td>\n",
       "      <td>0.0</td>\n",
       "    </tr>\n",
       "    <tr>\n",
       "      <th>9909465151</th>\n",
       "      <td>2.0</td>\n",
       "      <td>0.0</td>\n",
       "      <td>0.0</td>\n",
       "    </tr>\n",
       "    <tr>\n",
       "      <th>9909472303</th>\n",
       "      <td>4.0</td>\n",
       "      <td>0.0</td>\n",
       "      <td>0.0</td>\n",
       "    </tr>\n",
       "  </tbody>\n",
       "</table>\n",
       "<p>109413 rows × 3 columns</p>\n",
       "</div>"
      ],
      "text/plain": [
       "year          2019  2020  2021\n",
       "inn                           \n",
       "0000000000     2.0   0.0   0.0\n",
       "000000000000  10.0   0.0   0.0\n",
       "010100400827   0.0   2.0   0.0\n",
       "0101009232     2.0   0.0   2.0\n",
       "0101009602     2.0   0.0   0.0\n",
       "...            ...   ...   ...\n",
       "9909054754     0.0   0.0   2.0\n",
       "9909156883     0.0   0.0   2.0\n",
       "9909201656     2.0   0.0   0.0\n",
       "9909465151     2.0   0.0   0.0\n",
       "9909472303     4.0   0.0   0.0\n",
       "\n",
       "[109413 rows x 3 columns]"
      ]
     },
     "execution_count": 11,
     "metadata": {},
     "output_type": "execute_result"
    }
   ],
   "source": [
    "count_df = info_df.pivot_table(\"purch\", index=\"inn\", columns=[\"year\"], aggfunc='count')\n",
    "count_df = count_df.fillna(0)\n",
    "count_df"
   ]
  },
  {
   "cell_type": "code",
   "execution_count": 12,
   "id": "08c31a0a",
   "metadata": {
    "scrolled": false
   },
   "outputs": [
    {
     "data": {
      "text/html": [
       "<div>\n",
       "<style scoped>\n",
       "    .dataframe tbody tr th:only-of-type {\n",
       "        vertical-align: middle;\n",
       "    }\n",
       "\n",
       "    .dataframe tbody tr th {\n",
       "        vertical-align: top;\n",
       "    }\n",
       "\n",
       "    .dataframe thead th {\n",
       "        text-align: right;\n",
       "    }\n",
       "</style>\n",
       "<table border=\"1\" class=\"dataframe\">\n",
       "  <thead>\n",
       "    <tr style=\"text-align: right;\">\n",
       "      <th>year</th>\n",
       "      <th>2019</th>\n",
       "      <th>2020</th>\n",
       "      <th>2021</th>\n",
       "    </tr>\n",
       "    <tr>\n",
       "      <th>inn</th>\n",
       "      <th></th>\n",
       "      <th></th>\n",
       "      <th></th>\n",
       "    </tr>\n",
       "  </thead>\n",
       "  <tbody>\n",
       "    <tr>\n",
       "      <th>0000000000</th>\n",
       "      <td>1.852646e+06</td>\n",
       "      <td>0.00</td>\n",
       "      <td>0.000000e+00</td>\n",
       "    </tr>\n",
       "    <tr>\n",
       "      <th>000000000000</th>\n",
       "      <td>1.139978e+07</td>\n",
       "      <td>0.00</td>\n",
       "      <td>0.000000e+00</td>\n",
       "    </tr>\n",
       "    <tr>\n",
       "      <th>010100400827</th>\n",
       "      <td>0.000000e+00</td>\n",
       "      <td>8823688.92</td>\n",
       "      <td>0.000000e+00</td>\n",
       "    </tr>\n",
       "    <tr>\n",
       "      <th>0101009232</th>\n",
       "      <td>4.678598e+07</td>\n",
       "      <td>0.00</td>\n",
       "      <td>3.169852e+07</td>\n",
       "    </tr>\n",
       "    <tr>\n",
       "      <th>0101009602</th>\n",
       "      <td>9.992000e+05</td>\n",
       "      <td>0.00</td>\n",
       "      <td>0.000000e+00</td>\n",
       "    </tr>\n",
       "    <tr>\n",
       "      <th>...</th>\n",
       "      <td>...</td>\n",
       "      <td>...</td>\n",
       "      <td>...</td>\n",
       "    </tr>\n",
       "    <tr>\n",
       "      <th>9909054754</th>\n",
       "      <td>0.000000e+00</td>\n",
       "      <td>0.00</td>\n",
       "      <td>2.010377e+07</td>\n",
       "    </tr>\n",
       "    <tr>\n",
       "      <th>9909156883</th>\n",
       "      <td>0.000000e+00</td>\n",
       "      <td>0.00</td>\n",
       "      <td>3.737616e+08</td>\n",
       "    </tr>\n",
       "    <tr>\n",
       "      <th>9909201656</th>\n",
       "      <td>2.923556e+07</td>\n",
       "      <td>0.00</td>\n",
       "      <td>0.000000e+00</td>\n",
       "    </tr>\n",
       "    <tr>\n",
       "      <th>9909465151</th>\n",
       "      <td>7.093629e+09</td>\n",
       "      <td>0.00</td>\n",
       "      <td>0.000000e+00</td>\n",
       "    </tr>\n",
       "    <tr>\n",
       "      <th>9909472303</th>\n",
       "      <td>1.424334e+08</td>\n",
       "      <td>0.00</td>\n",
       "      <td>0.000000e+00</td>\n",
       "    </tr>\n",
       "  </tbody>\n",
       "</table>\n",
       "<p>109413 rows × 3 columns</p>\n",
       "</div>"
      ],
      "text/plain": [
       "year                  2019        2020          2021\n",
       "inn                                                 \n",
       "0000000000    1.852646e+06        0.00  0.000000e+00\n",
       "000000000000  1.139978e+07        0.00  0.000000e+00\n",
       "010100400827  0.000000e+00  8823688.92  0.000000e+00\n",
       "0101009232    4.678598e+07        0.00  3.169852e+07\n",
       "0101009602    9.992000e+05        0.00  0.000000e+00\n",
       "...                    ...         ...           ...\n",
       "9909054754    0.000000e+00        0.00  2.010377e+07\n",
       "9909156883    0.000000e+00        0.00  3.737616e+08\n",
       "9909201656    2.923556e+07        0.00  0.000000e+00\n",
       "9909465151    7.093629e+09        0.00  0.000000e+00\n",
       "9909472303    1.424334e+08        0.00  0.000000e+00\n",
       "\n",
       "[109413 rows x 3 columns]"
      ]
     },
     "execution_count": 12,
     "metadata": {},
     "output_type": "execute_result"
    }
   ],
   "source": [
    "sum_df = info_df.pivot_table(\"amount\", index=\"inn\", columns=[\"year\"], aggfunc='sum')\n",
    "sum_df = sum_df.fillna(0)\n",
    "sum_df"
   ]
  },
  {
   "cell_type": "code",
   "execution_count": 12,
   "id": "a27d54a5",
   "metadata": {},
   "outputs": [],
   "source": [
    "count_df = count_df.rename({2019: \"Кол-во 2019\", 2020: \"Кол-во 2020\", 2021: \"Кол-во 2021\"}, axis=1)\n",
    "sum_df = sum_df.rename({2019: \"Сумма 2019\", 2020: \"Сумма 2020\", 2021: \"Сумма 2021\"}, axis=1)"
   ]
  },
  {
   "cell_type": "code",
   "execution_count": 113,
   "id": "b7c2041a",
   "metadata": {},
   "outputs": [],
   "source": [
    "cond1 = ((sum_df[2020] + sum_df[2021]) / 2)[((((sum_df[2020] + sum_df[2021]) / 2) >= 500000) & (((sum_df[2020] + sum_df[2021]) / 2) <= 3000000))].index"
   ]
  },
  {
   "cell_type": "code",
   "execution_count": 136,
   "id": "c7b1b24b",
   "metadata": {},
   "outputs": [],
   "source": [
    "cond2 = count_df[(count_df[2020] != 0) & ((count_df[2021] / count_df[2020]) >= 0.75)].index"
   ]
  },
  {
   "cell_type": "code",
   "execution_count": 115,
   "id": "56d68210",
   "metadata": {},
   "outputs": [
    {
     "data": {
      "text/plain": [
       "Index(['010100400827', '0101010245', '0101012637', '010101658924',\n",
       "       '010102380750', '010109940577', '0101980148', '010201137805',\n",
       "       '0103007142', '010301707174',\n",
       "       ...\n",
       "       '9731070183', '9731075583', '9731077140', '9731077340', '9901000411',\n",
       "       '990100643102', '990100711313', '9901035118', '9901036545',\n",
       "       '990116467452'],\n",
       "      dtype='object', name='inn', length=26778)"
      ]
     },
     "execution_count": 115,
     "metadata": {},
     "output_type": "execute_result"
    }
   ],
   "source": [
    "cond1"
   ]
  },
  {
   "cell_type": "code",
   "execution_count": 116,
   "id": "e9d0f1eb",
   "metadata": {},
   "outputs": [
    {
     "data": {
      "text/plain": [
       "Index(['0105004524', '010500595874', '0105051034', '0105069419',\n",
       "       '010518449747', '0201011980', '0202009729', '020503947633',\n",
       "       '020702495004', '021700478679',\n",
       "       ...\n",
       "       '9723068769', '9724001580', '9725015995', '9725033472', '9729074230',\n",
       "       '9729289570', '9731004335', '9731012030', '9731046751', '9731050194'],\n",
       "      dtype='object', name='inn', length=4420)"
      ]
     },
     "execution_count": 116,
     "metadata": {},
     "output_type": "execute_result"
    }
   ],
   "source": [
    "cond1.intersection(cond2)"
   ]
  },
  {
   "cell_type": "code",
   "execution_count": 68,
   "id": "73b0d3c1",
   "metadata": {},
   "outputs": [
    {
     "data": {
      "text/html": [
       "<div>\n",
       "<style scoped>\n",
       "    .dataframe tbody tr th:only-of-type {\n",
       "        vertical-align: middle;\n",
       "    }\n",
       "\n",
       "    .dataframe tbody tr th {\n",
       "        vertical-align: top;\n",
       "    }\n",
       "\n",
       "    .dataframe thead th {\n",
       "        text-align: right;\n",
       "    }\n",
       "</style>\n",
       "<table border=\"1\" class=\"dataframe\">\n",
       "  <thead>\n",
       "    <tr style=\"text-align: right;\">\n",
       "      <th>year</th>\n",
       "      <th>2019</th>\n",
       "      <th>2020</th>\n",
       "      <th>2021</th>\n",
       "    </tr>\n",
       "    <tr>\n",
       "      <th>inn</th>\n",
       "      <th></th>\n",
       "      <th></th>\n",
       "      <th></th>\n",
       "    </tr>\n",
       "  </thead>\n",
       "  <tbody>\n",
       "    <tr>\n",
       "      <th>0000000000</th>\n",
       "      <td>2.0</td>\n",
       "      <td>0.0</td>\n",
       "      <td>0.0</td>\n",
       "    </tr>\n",
       "    <tr>\n",
       "      <th>000000000000</th>\n",
       "      <td>10.0</td>\n",
       "      <td>0.0</td>\n",
       "      <td>0.0</td>\n",
       "    </tr>\n",
       "    <tr>\n",
       "      <th>010100400827</th>\n",
       "      <td>0.0</td>\n",
       "      <td>2.0</td>\n",
       "      <td>0.0</td>\n",
       "    </tr>\n",
       "    <tr>\n",
       "      <th>0101009232</th>\n",
       "      <td>2.0</td>\n",
       "      <td>0.0</td>\n",
       "      <td>2.0</td>\n",
       "    </tr>\n",
       "    <tr>\n",
       "      <th>0101009602</th>\n",
       "      <td>2.0</td>\n",
       "      <td>0.0</td>\n",
       "      <td>0.0</td>\n",
       "    </tr>\n",
       "    <tr>\n",
       "      <th>...</th>\n",
       "      <td>...</td>\n",
       "      <td>...</td>\n",
       "      <td>...</td>\n",
       "    </tr>\n",
       "    <tr>\n",
       "      <th>9909054754</th>\n",
       "      <td>0.0</td>\n",
       "      <td>0.0</td>\n",
       "      <td>2.0</td>\n",
       "    </tr>\n",
       "    <tr>\n",
       "      <th>9909156883</th>\n",
       "      <td>0.0</td>\n",
       "      <td>0.0</td>\n",
       "      <td>2.0</td>\n",
       "    </tr>\n",
       "    <tr>\n",
       "      <th>9909201656</th>\n",
       "      <td>2.0</td>\n",
       "      <td>0.0</td>\n",
       "      <td>0.0</td>\n",
       "    </tr>\n",
       "    <tr>\n",
       "      <th>9909465151</th>\n",
       "      <td>2.0</td>\n",
       "      <td>0.0</td>\n",
       "      <td>0.0</td>\n",
       "    </tr>\n",
       "    <tr>\n",
       "      <th>9909472303</th>\n",
       "      <td>4.0</td>\n",
       "      <td>0.0</td>\n",
       "      <td>0.0</td>\n",
       "    </tr>\n",
       "  </tbody>\n",
       "</table>\n",
       "<p>109413 rows × 3 columns</p>\n",
       "</div>"
      ],
      "text/plain": [
       "year          2019  2020  2021\n",
       "inn                           \n",
       "0000000000     2.0   0.0   0.0\n",
       "000000000000  10.0   0.0   0.0\n",
       "010100400827   0.0   2.0   0.0\n",
       "0101009232     2.0   0.0   2.0\n",
       "0101009602     2.0   0.0   0.0\n",
       "...            ...   ...   ...\n",
       "9909054754     0.0   0.0   2.0\n",
       "9909156883     0.0   0.0   2.0\n",
       "9909201656     2.0   0.0   0.0\n",
       "9909465151     2.0   0.0   0.0\n",
       "9909472303     4.0   0.0   0.0\n",
       "\n",
       "[109413 rows x 3 columns]"
      ]
     },
     "execution_count": 68,
     "metadata": {},
     "output_type": "execute_result"
    }
   ],
   "source": [
    "count_df"
   ]
  },
  {
   "cell_type": "code",
   "execution_count": null,
   "id": "48e9674e",
   "metadata": {},
   "outputs": [],
   "source": [
    "values = count_df[(count_df[2020] != 0) & ((count_df[2021] / count_df[2020]) >= 0.75)].index"
   ]
  },
  {
   "cell_type": "code",
   "execution_count": 137,
   "id": "27ac5dae",
   "metadata": {},
   "outputs": [],
   "source": [
    "values = count_df[2021] [count_df[2020] != 0] / count_df[2020][count_df[2020] != 0]"
   ]
  },
  {
   "cell_type": "code",
   "execution_count": 13,
   "id": "ca2144f1",
   "metadata": {},
   "outputs": [],
   "source": [
    "mean_amounts = info_df[info_df.year != 2019].groupby(\"inn\").amount.mean()\n",
    "#mean_amounts = mean_amounts[(mean_amounts >= 500000) & (mean_amounts <= 30000000)]"
   ]
  },
  {
   "cell_type": "code",
   "execution_count": 78,
   "id": "16e27a54",
   "metadata": {},
   "outputs": [],
   "source": [
    "cond1 = mean_amounts[(mean_amounts >= 500000) & (mean_amounts <= 3000000)].index"
   ]
  },
  {
   "cell_type": "code",
   "execution_count": 82,
   "id": "c63bcf4d",
   "metadata": {},
   "outputs": [],
   "source": [
    "count_df = count_df.loc[cond1]"
   ]
  },
  {
   "cell_type": "code",
   "execution_count": 139,
   "id": "7c58d284",
   "metadata": {},
   "outputs": [
    {
     "data": {
      "text/plain": [
       "inn\n",
       "010100400827    0.0\n",
       "0101010245      0.5\n",
       "0101012637      0.0\n",
       "010101658924    0.0\n",
       "010105665591    0.0\n",
       "               ... \n",
       "9901036545      0.0\n",
       "9901036552      0.8\n",
       "990116467452    0.5\n",
       "990116504915    0.0\n",
       "990116534780    0.0\n",
       "Length: 60393, dtype: float64"
      ]
     },
     "execution_count": 139,
     "metadata": {},
     "output_type": "execute_result"
    }
   ],
   "source": [
    "values"
   ]
  },
  {
   "cell_type": "code",
   "execution_count": 33,
   "id": "59d22783",
   "metadata": {},
   "outputs": [
    {
     "data": {
      "text/plain": [
       "29309"
      ]
     },
     "execution_count": 33,
     "metadata": {},
     "output_type": "execute_result"
    }
   ],
   "source": [
    "((mean_amounts >= 500000) & (mean_amounts <= 3000000)).sum()"
   ]
  },
  {
   "cell_type": "code",
   "execution_count": 40,
   "id": "a58216db",
   "metadata": {},
   "outputs": [],
   "source": [
    "values = mean_amounts[(mean_amounts >= 500000) & (mean_amounts <= 3000000)]"
   ]
  },
  {
   "cell_type": "code",
   "execution_count": 102,
   "id": "35e2650d",
   "metadata": {},
   "outputs": [
    {
     "data": {
      "text/plain": [
       "11056"
      ]
     },
     "execution_count": 102,
     "metadata": {},
     "output_type": "execute_result"
    }
   ],
   "source": [
    "(values > 0.75).sum()"
   ]
  },
  {
   "cell_type": "code",
   "execution_count": 23,
   "id": "d41e9551",
   "metadata": {},
   "outputs": [],
   "source": [
    "import matplotlib.pyplot as plt\n",
    "import seaborn as sns\n",
    "import numpy as np"
   ]
  },
  {
   "cell_type": "code",
   "execution_count": 88,
   "id": "874db580",
   "metadata": {},
   "outputs": [
    {
     "data": {
      "text/plain": [
       "4356"
      ]
     },
     "execution_count": 88,
     "metadata": {},
     "output_type": "execute_result"
    }
   ],
   "source": [
    "(values >= 0.75).sum()"
   ]
  },
  {
   "cell_type": "code",
   "execution_count": 124,
   "id": "cc306faa",
   "metadata": {},
   "outputs": [
    {
     "data": {
      "text/plain": [
       "135443.82541698"
      ]
     },
     "execution_count": 124,
     "metadata": {},
     "output_type": "execute_result"
    }
   ],
   "source": [
    "mean_amounts.max() / 1000000"
   ]
  },
  {
   "cell_type": "code",
   "execution_count": 130,
   "id": "00be7e0a",
   "metadata": {},
   "outputs": [
    {
     "data": {
      "text/plain": [
       "array([ 10,  30,  50,  70,  90, 110, 130])"
      ]
     },
     "execution_count": 130,
     "metadata": {},
     "output_type": "execute_result"
    }
   ],
   "source": [
    "np.arange(10, 150, 20)"
   ]
  },
  {
   "cell_type": "code",
   "execution_count": 132,
   "id": "ba88dfa5",
   "metadata": {},
   "outputs": [
    {
     "data": {
      "text/plain": [
       "array([  0.  ,   0.25,   0.5 ,   0.75,   1.  ,   1.25,   1.5 ,   1.75,\n",
       "         2.  ,   2.25,   2.5 ,   2.75,   3.  ,   3.25,   3.5 ,   3.75,\n",
       "         4.  ,   4.25,   4.5 ,   4.75,   5.  ,   5.25,   5.5 ,   5.75,\n",
       "         6.  ,   6.25,   6.5 ,   6.75,   7.  ,   7.25,   7.5 ,   7.75,\n",
       "         8.  ,   8.25,   8.5 ,   8.75,   9.  ,   9.25,   9.5 ,   9.75,\n",
       "        10.  ,  30.  ,  50.  ,  70.  ,  90.  , 110.  , 130.  , 150.  ])"
      ]
     },
     "execution_count": 132,
     "metadata": {},
     "output_type": "execute_result"
    }
   ],
   "source": [
    "np.concatenate((np.arange(0, 10, 0.25), np.arange(10, 151, 20)))"
   ]
  },
  {
   "cell_type": "code",
   "execution_count": 141,
   "id": "45082ed7",
   "metadata": {},
   "outputs": [
    {
     "data": {
      "image/png": "[encoded data removed]",
      "text/plain": [
       "<Figure size 864x576 with 1 Axes>"
      ]
     },
     "metadata": {
      "needs_background": "light"
     },
     "output_type": "display_data"
    }
   ],
   "source": [
    "fig, ax = plt.subplots(figsize=(12, 8))\n",
    "\n",
    "# ax = sns.distplot(mean_amounts / 1000000, color=\"salmon\", \\\n",
    "#                  bins=np.concatenate((np.arange(0, 20, 0.5), np.arange(20, 151, 20))), kde=False, ax=ax)\n",
    "ax = sns.distplot(values, kde=False, color=\"salmon\", bins=np.arange(0, 10, 0.25), ax=ax)\n",
    "\n",
    "ax.set_ylabel('Кол-во', fontsize=18)    \n",
    "ax.set_xlabel('Значение', fontsize=18)\n",
    "#ax.set_title('Распределение средней суммы тендера за 2020 и 2021 г.', fontsize=20)\n",
    "ax.axvline(0.75, 0, 1.47, label=\"500 тыс\")\n",
    "ax.set_title('Распределение отношения кол-ва тендеров в 2021 к кол-ву в 2020\\n(Для инн с средней суммой тендера от 500 тыс. до 3 млн)', fontsize=20)\n",
    "\n",
    "plt.legend(fontsize=14)\n",
    "plt.tick_params(labelsize=14)\n",
    "\n",
    "plt.savefig(\"Отношение.jpg\", bbox_inches = 'tight')\n",
    "#plt.savefig(\"Сумма.jpg\", bbox_inches = 'tight')"
   ]
  },
  {
   "cell_type": "code",
   "execution_count": 142,
   "id": "13de2d20",
   "metadata": {},
   "outputs": [
    {
     "data": {
      "text/plain": [
       "11356"
      ]
     },
     "execution_count": 142,
     "metadata": {},
     "output_type": "execute_result"
    }
   ],
   "source": [
    "(values >= 0.75).sum()"
   ]
  },
  {
   "cell_type": "code",
   "execution_count": 143,
   "id": "0c9124f9",
   "metadata": {},
   "outputs": [
    {
     "data": {
      "text/plain": [
       "49337"
      ]
     },
     "execution_count": 143,
     "metadata": {},
     "output_type": "execute_result"
    }
   ],
   "source": [
    "(values <= 0.75).sum()"
   ]
  },
  {
   "cell_type": "code",
   "execution_count": 144,
   "id": "d22e745c",
   "metadata": {},
   "outputs": [
    {
     "data": {
      "text/plain": [
       "300"
      ]
     },
     "execution_count": 144,
     "metadata": {},
     "output_type": "execute_result"
    }
   ],
   "source": [
    "(values == 0.75).sum()"
   ]
  },
  {
   "cell_type": "code",
   "execution_count": 12,
   "id": "2807b40f",
   "metadata": {},
   "outputs": [],
   "source": [
    "cond1 = mean_amounts.index"
   ]
  },
  {
   "cell_type": "code",
   "execution_count": 56,
   "id": "76c49de3",
   "metadata": {},
   "outputs": [
    {
     "data": {
      "text/plain": [
       "897023.6533333333"
      ]
     },
     "execution_count": 56,
     "metadata": {},
     "output_type": "execute_result"
    }
   ],
   "source": [
    "mean_amounts[\"773271002265\"]"
   ]
  },
  {
   "cell_type": "code",
   "execution_count": 13,
   "id": "77460cce",
   "metadata": {},
   "outputs": [],
   "source": [
    "info_df = info_df[(info_df.inn.isin(cond1)) & (info_df.inn.isin(cond2))]"
   ]
  },
  {
   "cell_type": "code",
   "execution_count": 20,
   "id": "121889fd",
   "metadata": {},
   "outputs": [],
   "source": [
    "info_df = info_df.drop_duplicates(subset=[\"inn\"])"
   ]
  },
  {
   "cell_type": "code",
   "execution_count": 25,
   "id": "cdd6e17c",
   "metadata": {},
   "outputs": [],
   "source": [
    "info_df.drop(\"amount\", axis=1, inplace=True)"
   ]
  },
  {
   "cell_type": "code",
   "execution_count": 45,
   "id": "edca1942",
   "metadata": {},
   "outputs": [],
   "source": [
    "merged_info_df = info_df.merge(count_df, how=\"inner\", on=\"inn\").merge(sum_df, how=\"inner\", on=\"inn\")"
   ]
  },
  {
   "cell_type": "code",
   "execution_count": 52,
   "id": "afc339d4",
   "metadata": {},
   "outputs": [
    {
     "data": {
      "text/html": [
       "<div>\n",
       "<style scoped>\n",
       "    .dataframe tbody tr th:only-of-type {\n",
       "        vertical-align: middle;\n",
       "    }\n",
       "\n",
       "    .dataframe tbody tr th {\n",
       "        vertical-align: top;\n",
       "    }\n",
       "\n",
       "    .dataframe thead th {\n",
       "        text-align: right;\n",
       "    }\n",
       "</style>\n",
       "<table border=\"1\" class=\"dataframe\">\n",
       "  <thead>\n",
       "    <tr style=\"text-align: right;\">\n",
       "      <th></th>\n",
       "      <th>purch</th>\n",
       "      <th>inn</th>\n",
       "      <th>name</th>\n",
       "      <th>phone</th>\n",
       "      <th>address</th>\n",
       "      <th>email</th>\n",
       "      <th>Кол-во 2019</th>\n",
       "      <th>Кол-во 2020</th>\n",
       "      <th>Кол-во 2021</th>\n",
       "      <th>Сумма 2019</th>\n",
       "      <th>Сумма 2020</th>\n",
       "      <th>Сумма 2021</th>\n",
       "    </tr>\n",
       "  </thead>\n",
       "  <tbody>\n",
       "    <tr>\n",
       "      <th>0</th>\n",
       "      <td>0373200032219000110</td>\n",
       "      <td>773271002265</td>\n",
       "      <td>ИП Ващенко Виталий АлександровичИндивидуальный...</td>\n",
       "      <td>+7 (915) 129-45-72</td>\n",
       "      <td>г. Москва, ул. Лукинская, дом 1, кв. 92</td>\n",
       "      <td>vashenkoip@yandex.ru</td>\n",
       "      <td>3.0</td>\n",
       "      <td>1.0</td>\n",
       "      <td>2.0</td>\n",
       "      <td>19878965.48</td>\n",
       "      <td>735912.29</td>\n",
       "      <td>1955158.67</td>\n",
       "    </tr>\n",
       "    <tr>\n",
       "      <th>1</th>\n",
       "      <td>0149200002319000054</td>\n",
       "      <td>7813600141</td>\n",
       "      <td>Общество с ограниченной ответственностью «Соци...</td>\n",
       "      <td>+7(812)3808032</td>\n",
       "      <td>197110, Российская Федерация, г. Санкт-Петербу...</td>\n",
       "      <td>support@social-soft.ru</td>\n",
       "      <td>4.0</td>\n",
       "      <td>2.0</td>\n",
       "      <td>3.0</td>\n",
       "      <td>4669763.00</td>\n",
       "      <td>5008347.00</td>\n",
       "      <td>7146851.00</td>\n",
       "    </tr>\n",
       "    <tr>\n",
       "      <th>2</th>\n",
       "      <td>0306200011519000029</td>\n",
       "      <td>6147011500</td>\n",
       "      <td>ОБЩЕСТВО С ОГРАНИЧЕННОЙ ОТВЕТСТВЕННОСТЬЮ ТОРГО...</td>\n",
       "      <td>8-6365-70833</td>\n",
       "      <td>347810, ОБЛ РОСТОВСКАЯ 61, Г КАМЕНСК-ШАХТИНСКИ...</td>\n",
       "      <td>arix5@rambler.ru</td>\n",
       "      <td>7.0</td>\n",
       "      <td>5.0</td>\n",
       "      <td>6.0</td>\n",
       "      <td>8828845.40</td>\n",
       "      <td>1839990.37</td>\n",
       "      <td>18024308.34</td>\n",
       "    </tr>\n",
       "    <tr>\n",
       "      <th>3</th>\n",
       "      <td>0373200041519000080</td>\n",
       "      <td>7715549708</td>\n",
       "      <td>АНО \"Катаржина\"</td>\n",
       "      <td>+7 (499) 205-90-10</td>\n",
       "      <td>127106 город Москва, улица Комдива Орлова, дом 4</td>\n",
       "      <td>info@katarzyna.ru</td>\n",
       "      <td>1.0</td>\n",
       "      <td>1.0</td>\n",
       "      <td>1.0</td>\n",
       "      <td>3938383.50</td>\n",
       "      <td>1508237.08</td>\n",
       "      <td>349000.01</td>\n",
       "    </tr>\n",
       "    <tr>\n",
       "      <th>4</th>\n",
       "      <td>0356500002619000005</td>\n",
       "      <td>5904122072</td>\n",
       "      <td>Федеральное бюджетное учреждение здравоохранен...</td>\n",
       "      <td>7-342-2393409</td>\n",
       "      <td>614016, КРАЙ ПЕРМСКИЙ, ГОРОД ПЕРМЬ, УЛИЦА КУЙБ...</td>\n",
       "      <td>dogcgepo@bk.ru</td>\n",
       "      <td>3.0</td>\n",
       "      <td>3.0</td>\n",
       "      <td>3.0</td>\n",
       "      <td>959200.34</td>\n",
       "      <td>2195832.40</td>\n",
       "      <td>2544504.92</td>\n",
       "    </tr>\n",
       "    <tr>\n",
       "      <th>...</th>\n",
       "      <td>...</td>\n",
       "      <td>...</td>\n",
       "      <td>...</td>\n",
       "      <td>...</td>\n",
       "      <td>...</td>\n",
       "      <td>...</td>\n",
       "      <td>...</td>\n",
       "      <td>...</td>\n",
       "      <td>...</td>\n",
       "      <td>...</td>\n",
       "      <td>...</td>\n",
       "      <td>...</td>\n",
       "    </tr>\n",
       "    <tr>\n",
       "      <th>1475</th>\n",
       "      <td>0166100001121000005</td>\n",
       "      <td>7107503225</td>\n",
       "      <td>ОБЩЕСТВО С ОГРАНИЧЕННОЙ ОТВЕТСТВЕННОСТЬЮ \"КОПИ...</td>\n",
       "      <td>7-4872-367591</td>\n",
       "      <td>300012, ОБЛ ТУЛЬСКАЯ 71, Г ТУЛА, ПР-КТ ЛЕНИНА,...</td>\n",
       "      <td>kmservis71@mail.ru</td>\n",
       "      <td>0.0</td>\n",
       "      <td>1.0</td>\n",
       "      <td>1.0</td>\n",
       "      <td>0.00</td>\n",
       "      <td>750000.00</td>\n",
       "      <td>1050000.00</td>\n",
       "    </tr>\n",
       "    <tr>\n",
       "      <th>1476</th>\n",
       "      <td>0873100007321000019</td>\n",
       "      <td>9718118661</td>\n",
       "      <td>ОБЩЕСТВО С ОГРАНИЧЕННОЙ ОТВЕТСТВЕННОСТЬЮ \"ЭКОВ...</td>\n",
       "      <td>7-967-0498708</td>\n",
       "      <td>107497, Г МОСКВА 77, ПРОЕЗД 2-Й ИРТЫШСКИЙ, ДОМ...</td>\n",
       "      <td>ecovelikan@gmail.ru</td>\n",
       "      <td>0.0</td>\n",
       "      <td>1.0</td>\n",
       "      <td>1.0</td>\n",
       "      <td>0.00</td>\n",
       "      <td>15120753.90</td>\n",
       "      <td>14191200.00</td>\n",
       "    </tr>\n",
       "    <tr>\n",
       "      <th>1477</th>\n",
       "      <td>0122200002521003697</td>\n",
       "      <td>2723003367</td>\n",
       "      <td>ОБЩЕСТВО С ОГРАНИЧЕННОЙ ОТВЕТСТВЕННОСТЬЮ ПРЕДП...</td>\n",
       "      <td>79142035972</td>\n",
       "      <td>680020, КРАЙ ХАБАРОВСКИЙ 27, Г ХАБАРОВСК, ПЕР ...</td>\n",
       "      <td>izotop@bk.ru</td>\n",
       "      <td>0.0</td>\n",
       "      <td>1.0</td>\n",
       "      <td>1.0</td>\n",
       "      <td>0.00</td>\n",
       "      <td>5931999.96</td>\n",
       "      <td>88537.08</td>\n",
       "    </tr>\n",
       "    <tr>\n",
       "      <th>1478</th>\n",
       "      <td>0190200000320012257</td>\n",
       "      <td>781418325084</td>\n",
       "      <td>КУРИЛЕНКО АНАТОЛИЙ ВАЛЕРЬЕВИЧ -Индивидуальный ...</td>\n",
       "      <td>7-812-7035355</td>\n",
       "      <td>Г САНКТ-ПЕТЕРБУРГ78,</td>\n",
       "      <td>medkontakt@medkontakt.spb.ru</td>\n",
       "      <td>0.0</td>\n",
       "      <td>1.0</td>\n",
       "      <td>1.0</td>\n",
       "      <td>0.00</td>\n",
       "      <td>1024920.00</td>\n",
       "      <td>1210000.00</td>\n",
       "    </tr>\n",
       "    <tr>\n",
       "      <th>1479</th>\n",
       "      <td>0339300016420000102</td>\n",
       "      <td>4213011043</td>\n",
       "      <td>МУНИЦИПАЛЬНОЕ УНИТАРНОЕ ПРЕДПРИЯТИЕ \"МАРИИНЕЦ\"...</td>\n",
       "      <td>8-905-9957558</td>\n",
       "      <td>652150, ОБЛ КЕМЕРОВСКАЯ ОБЛАСТЬ - КУЗБАСС 42, ...</td>\n",
       "      <td>mupmcgku@mail.ru</td>\n",
       "      <td>0.0</td>\n",
       "      <td>1.0</td>\n",
       "      <td>1.0</td>\n",
       "      <td>0.00</td>\n",
       "      <td>6080534.00</td>\n",
       "      <td>6419466.00</td>\n",
       "    </tr>\n",
       "  </tbody>\n",
       "</table>\n",
       "<p>1480 rows × 12 columns</p>\n",
       "</div>"
      ],
      "text/plain": [
       "                    purch           inn  \\\n",
       "0     0373200032219000110  773271002265   \n",
       "1     0149200002319000054    7813600141   \n",
       "2     0306200011519000029    6147011500   \n",
       "3     0373200041519000080    7715549708   \n",
       "4     0356500002619000005    5904122072   \n",
       "...                   ...           ...   \n",
       "1475  0166100001121000005    7107503225   \n",
       "1476  0873100007321000019    9718118661   \n",
       "1477  0122200002521003697    2723003367   \n",
       "1478  0190200000320012257  781418325084   \n",
       "1479  0339300016420000102    4213011043   \n",
       "\n",
       "                                                   name               phone  \\\n",
       "0     ИП Ващенко Виталий АлександровичИндивидуальный...  +7 (915) 129-45-72   \n",
       "1     Общество с ограниченной ответственностью «Соци...      +7(812)3808032   \n",
       "2     ОБЩЕСТВО С ОГРАНИЧЕННОЙ ОТВЕТСТВЕННОСТЬЮ ТОРГО...        8-6365-70833   \n",
       "3                                       АНО \"Катаржина\"  +7 (499) 205-90-10   \n",
       "4     Федеральное бюджетное учреждение здравоохранен...       7-342-2393409   \n",
       "...                                                 ...                 ...   \n",
       "1475  ОБЩЕСТВО С ОГРАНИЧЕННОЙ ОТВЕТСТВЕННОСТЬЮ \"КОПИ...       7-4872-367591   \n",
       "1476  ОБЩЕСТВО С ОГРАНИЧЕННОЙ ОТВЕТСТВЕННОСТЬЮ \"ЭКОВ...       7-967-0498708   \n",
       "1477  ОБЩЕСТВО С ОГРАНИЧЕННОЙ ОТВЕТСТВЕННОСТЬЮ ПРЕДП...         79142035972   \n",
       "1478  КУРИЛЕНКО АНАТОЛИЙ ВАЛЕРЬЕВИЧ -Индивидуальный ...       7-812-7035355   \n",
       "1479  МУНИЦИПАЛЬНОЕ УНИТАРНОЕ ПРЕДПРИЯТИЕ \"МАРИИНЕЦ\"...       8-905-9957558   \n",
       "\n",
       "                                                address  \\\n",
       "0               г. Москва, ул. Лукинская, дом 1, кв. 92   \n",
       "1     197110, Российская Федерация, г. Санкт-Петербу...   \n",
       "2     347810, ОБЛ РОСТОВСКАЯ 61, Г КАМЕНСК-ШАХТИНСКИ...   \n",
       "3      127106 город Москва, улица Комдива Орлова, дом 4   \n",
       "4     614016, КРАЙ ПЕРМСКИЙ, ГОРОД ПЕРМЬ, УЛИЦА КУЙБ...   \n",
       "...                                                 ...   \n",
       "1475  300012, ОБЛ ТУЛЬСКАЯ 71, Г ТУЛА, ПР-КТ ЛЕНИНА,...   \n",
       "1476  107497, Г МОСКВА 77, ПРОЕЗД 2-Й ИРТЫШСКИЙ, ДОМ...   \n",
       "1477  680020, КРАЙ ХАБАРОВСКИЙ 27, Г ХАБАРОВСК, ПЕР ...   \n",
       "1478                               Г САНКТ-ПЕТЕРБУРГ78,   \n",
       "1479  652150, ОБЛ КЕМЕРОВСКАЯ ОБЛАСТЬ - КУЗБАСС 42, ...   \n",
       "\n",
       "                             email  Кол-во 2019  Кол-во 2020  Кол-во 2021  \\\n",
       "0             vashenkoip@yandex.ru          3.0          1.0          2.0   \n",
       "1           support@social-soft.ru          4.0          2.0          3.0   \n",
       "2                 arix5@rambler.ru          7.0          5.0          6.0   \n",
       "3                info@katarzyna.ru          1.0          1.0          1.0   \n",
       "4                   dogcgepo@bk.ru          3.0          3.0          3.0   \n",
       "...                            ...          ...          ...          ...   \n",
       "1475            kmservis71@mail.ru          0.0          1.0          1.0   \n",
       "1476           ecovelikan@gmail.ru          0.0          1.0          1.0   \n",
       "1477                  izotop@bk.ru          0.0          1.0          1.0   \n",
       "1478  medkontakt@medkontakt.spb.ru          0.0          1.0          1.0   \n",
       "1479              mupmcgku@mail.ru          0.0          1.0          1.0   \n",
       "\n",
       "       Сумма 2019   Сумма 2020   Сумма 2021  \n",
       "0     19878965.48    735912.29   1955158.67  \n",
       "1      4669763.00   5008347.00   7146851.00  \n",
       "2      8828845.40   1839990.37  18024308.34  \n",
       "3      3938383.50   1508237.08    349000.01  \n",
       "4       959200.34   2195832.40   2544504.92  \n",
       "...           ...          ...          ...  \n",
       "1475         0.00    750000.00   1050000.00  \n",
       "1476         0.00  15120753.90  14191200.00  \n",
       "1477         0.00   5931999.96     88537.08  \n",
       "1478         0.00   1024920.00   1210000.00  \n",
       "1479         0.00   6080534.00   6419466.00  \n",
       "\n",
       "[1480 rows x 12 columns]"
      ]
     },
     "execution_count": 52,
     "metadata": {},
     "output_type": "execute_result"
    }
   ],
   "source": [
    "merged_info_df"
   ]
  },
  {
   "cell_type": "code",
   "execution_count": 49,
   "id": "918db75c",
   "metadata": {},
   "outputs": [],
   "source": [
    "merged_info_df.to_excel(os.path.join(DATA_PATH, \"info.xlsx\"), index=False)"
   ]
  },
  {
   "cell_type": "code",
   "execution_count": null,
   "id": "4ae3536b",
   "metadata": {},
   "outputs": [],
   "source": []
  }
 ],
 "metadata": {
  "kernelspec": {
   "display_name": "Python 3 (ipykernel)",
   "language": "python",
   "name": "python3"
  },
  "language_info": {
   "codemirror_mode": {
    "name": "ipython",
    "version": 3
   },
   "file_extension": ".py",
   "mimetype": "text/x-python",
   "name": "python",
   "nbconvert_exporter": "python",
   "pygments_lexer": "ipython3",
   "version": "3.9.6"
  }
 },
 "nbformat": 4,
 "nbformat_minor": 5
}
