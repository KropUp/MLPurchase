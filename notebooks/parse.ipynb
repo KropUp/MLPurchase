{
 "cells": [
  {
   "cell_type": "code",
   "execution_count": 6,
   "id": "8c8d30b3",
   "metadata": {},
   "outputs": [],
   "source": [
    "import os\n",
    "import pandas as pd\n",
    "import logging\n",
    "import io\n",
    "import requests\n",
    "import threading\n",
    "import queue\n",
    "from tqdm import tqdm\n",
    "import time\n",
    "from bs4 import BeautifulSoup\n",
    "from lxml import html\n",
    "import aiohttp\n",
    "import asyncio\n",
    "\n",
    "DATA_PATH = \"/purchase/data\"\n",
    "\n",
    "tqdm.pandas()"
   ]
  },
  {
   "cell_type": "code",
   "execution_count": 7,
   "id": "5731e8a0",
   "metadata": {},
   "outputs": [
    {
     "name": "stderr",
     "output_type": "stream",
     "text": [
      "100%|██████████| 1488/1488 [00:00<00:00, 554273.92it/s]\n"
     ]
    }
   ],
   "source": [
    "df = pd.read_excel(os.path.join(DATA_PATH, 'INN_OUT_31_08_2021.xlsx'))\n",
    "# Data preparing\n",
    "df['purch'] = df['Реестровый номер закупки'].progress_apply(lambda x:x[1:])\n",
    "df = df.loc[df['Закупки по']=='44-ФЗ']\n",
    "df = df.loc[df['Этап закупки']=='Определение поставщика завершено']"
   ]
  },
  {
   "cell_type": "code",
   "execution_count": 8,
   "id": "522583e8",
   "metadata": {},
   "outputs": [
    {
     "ename": "RuntimeError",
     "evalue": "asyncio.run() cannot be called from a running event loop",
     "output_type": "error",
     "traceback": [
      "\u001b[0;31m---------------------------------------------------------------------------\u001b[0m",
      "\u001b[0;31mRuntimeError\u001b[0m                              Traceback (most recent call last)",
      "\u001b[0;32m/tmp/ipykernel_9/2401247671.py\u001b[0m in \u001b[0;36m<module>\u001b[0;34m\u001b[0m\n\u001b[1;32m      6\u001b[0m             \u001b[0mprint\u001b[0m\u001b[0;34m(\u001b[0m\u001b[0mpokemon\u001b[0m\u001b[0;34m[\u001b[0m\u001b[0;34m'name'\u001b[0m\u001b[0;34m]\u001b[0m\u001b[0;34m)\u001b[0m\u001b[0;34m\u001b[0m\u001b[0;34m\u001b[0m\u001b[0m\n\u001b[1;32m      7\u001b[0m \u001b[0;34m\u001b[0m\u001b[0m\n\u001b[0;32m----> 8\u001b[0;31m \u001b[0masyncio\u001b[0m\u001b[0;34m.\u001b[0m\u001b[0mrun\u001b[0m\u001b[0;34m(\u001b[0m\u001b[0mmain\u001b[0m\u001b[0;34m(\u001b[0m\u001b[0;34m)\u001b[0m\u001b[0;34m)\u001b[0m\u001b[0;34m\u001b[0m\u001b[0;34m\u001b[0m\u001b[0m\n\u001b[0m",
      "\u001b[0;32m/usr/local/lib/python3.9/asyncio/runners.py\u001b[0m in \u001b[0;36mrun\u001b[0;34m(main, debug)\u001b[0m\n\u001b[1;32m     31\u001b[0m     \"\"\"\n\u001b[1;32m     32\u001b[0m     \u001b[0;32mif\u001b[0m \u001b[0mevents\u001b[0m\u001b[0;34m.\u001b[0m\u001b[0m_get_running_loop\u001b[0m\u001b[0;34m(\u001b[0m\u001b[0;34m)\u001b[0m \u001b[0;32mis\u001b[0m \u001b[0;32mnot\u001b[0m \u001b[0;32mNone\u001b[0m\u001b[0;34m:\u001b[0m\u001b[0;34m\u001b[0m\u001b[0;34m\u001b[0m\u001b[0m\n\u001b[0;32m---> 33\u001b[0;31m         raise RuntimeError(\n\u001b[0m\u001b[1;32m     34\u001b[0m             \"asyncio.run() cannot be called from a running event loop\")\n\u001b[1;32m     35\u001b[0m \u001b[0;34m\u001b[0m\u001b[0m\n",
      "\u001b[0;31mRuntimeError\u001b[0m: asyncio.run() cannot be called from a running event loop"
     ]
    }
   ],
   "source": [
    "async def main():\n",
    "    async with aiohttp.ClientSession() as session:\n",
    "        pokemon_url = 'https://pokeapi.co/api/v2/pokemon/151'\n",
    "        async with session.get(pokemon_url) as resp:\n",
    "            pokemon = await resp.json()\n",
    "            print(pokemon['name'])\n",
    "\n",
    "asyncio.run(main())"
   ]
  },
  {
   "cell_type": "code",
   "execution_count": null,
   "id": "6073e56b",
   "metadata": {},
   "outputs": [],
   "source": []
  },
  {
   "cell_type": "code",
   "execution_count": null,
   "id": "3027710b",
   "metadata": {},
   "outputs": [],
   "source": []
  },
  {
   "cell_type": "code",
   "execution_count": 2,
   "id": "9985752c",
   "metadata": {},
   "outputs": [],
   "source": [
    "headers = {'sec-ch-ua': '\" Not;A Brand\";v=\"99\", \"Google Chrome\";v=\"91\", \"Chromium\";v=\"91\"',\n",
    "           'sec-ch-ua-mobile':'0',\n",
    "           'Upgrade-Insecure-Requests': '1',\n",
    "           'User-Agent': 'Mozilla/5.0 (Windows NT 10.0; Win64; x64) AppleWebKit/537.36 (KHTML, like Gecko) Chrome/91.0.4472.124 Safari/537.36'\n",
    "                    }\n",
    "\n",
    "def get_inn_vie_purch(purch):\n",
    "    url=\"https://zakupki.gov.ru/epz/order/notice/ea44/view/supplier-results.html?regNumber=\"+purch\n",
    "    r = requests.get(url, headers = headers)\n",
    "    text = r.content.decode('utf-8')\n",
    "    soup = BeautifulSoup(text)\n",
    "    winer_list = soup.find_all('table',{'class': 'blockInfo__table tableBlock'})\n",
    "    if len(winer_list) > 3:\n",
    "        soup = BeautifulSoup(str(winer_list[3]))\n",
    "    elif len(winer_list) == 3:\n",
    "        soup = BeautifulSoup(str(winer_list[2]))\n",
    "    else:\n",
    "        return\n",
    "    contract_link = soup.find('a')\n",
    "    try:\n",
    "        contract_url = contract_link.get('href')\n",
    "    except Exception:\n",
    "        return\n",
    "    contract_url = 'https://zakupki.gov.ru' + contract_url\n",
    "    try:\n",
    "        contract_page = requests.get(contract_url, headers = headers)\n",
    "    except Exception:\n",
    "        return\n",
    "    contract_page_text = contract_page.content.decode('utf-8')\n",
    "    soup = BeautifulSoup(contract_page_text)\n",
    "    spans = soup.find_all('span')\n",
    "    ind_cur = -1\n",
    "    for span in spans:\n",
    "        if span.text == 'ИНН:': \n",
    "            ind_cur = spans.index(span)+1\n",
    "            break\n",
    "    if ind_cur == -1:\n",
    "        return \n",
    "    else:\n",
    "        return spans[ind_cur].text"
   ]
  },
  {
   "cell_type": "code",
   "execution_count": null,
   "id": "efca5923",
   "metadata": {},
   "outputs": [],
   "source": [
    "def start_download(purch):\n",
    "    out = purch\n",
    "    scraping = threading.Thread(target=get_inn_vie_purch, args=(out,))\n",
    "    scraping.start()\n",
    "    scraping.join()\n",
    "    while threading.active_count()>10:\n",
    "        time.sleep(0.01)"
   ]
  }
 ],
 "metadata": {
  "kernelspec": {
   "display_name": "Python 3 (ipykernel)",
   "language": "python",
   "name": "python3"
  },
  "language_info": {
   "codemirror_mode": {
    "name": "ipython",
    "version": 3
   },
   "file_extension": ".py",
   "mimetype": "text/x-python",
   "name": "python",
   "nbconvert_exporter": "python",
   "pygments_lexer": "ipython3",
   "version": "3.9.6"
  }
 },
 "nbformat": 4,
 "nbformat_minor": 5
}
